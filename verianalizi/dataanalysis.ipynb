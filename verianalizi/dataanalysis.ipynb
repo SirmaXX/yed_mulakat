{
 "cells": [
  {
   "cell_type": "markdown",
   "metadata": {},
   "source": [
    "<center><h1> Deniz Balcı Mülakat veri analizi</h1></center>\n"
   ]
  },
  {
   "cell_type": "markdown",
   "metadata": {},
   "source": [
    "# Ön inceleme \n",
    "Verilerimiz akademik bir veri olduğu için çeşitli çalışmaları inceledim.\n",
    "\n",
    "1. https://dergipark.org.tr/tr/download/article-file/4554402    \n",
    "2. https://github.com/MoHoss007/Li-Ion-Battery-SOC-SOH-Prediction/tree/main/dataset/raw\n",
    "3. https://www.mdpi.com/2227-9717/11/3/678\n",
    "\n",
    "Çoğunlukla  yapay sinir ağları ve derin öğrenme tabanlı methodlar kullanılmıştır."
   ]
  },
  {
   "cell_type": "markdown",
   "metadata": {},
   "source": [
    "## Sorunumuz\n",
    "Elimizdeki 5-6-18 3 bataryanın sahip olduğu veriler ve  değişkenlerle durum Tahmini (State of Health - SoH) ve Şarj Durumu (State of Charge - SoC) değerlerini  incelemek.\n",
    "$$\n",
    "SOH=\\frac{current}{intial}  \\\\\n",
    "$$\n",
    "1. pilin şu anki kapasitesi (genellikle amper-saat cinsinden),\n",
    "2. initial pilin yeni iken kapasitesi.\n",
    "$$\n",
    "SOC=\\frac{vmeasured}{vmax}  \\\\\n",
    "$$\n",
    "1. vmeasured :anlık ölçülen pil voltajı,\n",
    "2. vmax: :pilin tam dolu \n",
    "\n",
    "Şeklinde tanımlanır."
   ]
  },
  {
   "cell_type": "markdown",
   "metadata": {},
   "source": [
    "İlk olarak matlab üzerinde verinin yapısını inceledim .Çünkü verisetimiz .mat dosya uzantısına sahip bunun anlamı ise şu matlab dosyası.</br>\n",
    "\n",
    "<img src=\"img/data1.png\" width=\"1000px\"/></br>\n",
    "<img src=\"img/data2.png\" width=\"1000px\" /></br>"
   ]
  },
  {
   "cell_type": "markdown",
   "metadata": {},
   "source": [
    "Matlab üzerinden verilerimizin tiplerini inceledim.\n",
    "\n",
    "```\n",
    "load('B0005.mat');\n",
    "cycles = B0005.cycle;\n",
    "\n",
    "% Get all unique types\n",
    "all_types = {cycles.type};\n",
    "unique_types = unique(all_types);\n",
    "\n",
    "disp('Unique cycle types found:');\n",
    "disp(unique_types');\n",
    "\n",
    "% Count occurrences of each type\n",
    "for i = 1:length(unique_types)\n",
    "    count = sum(strcmp(all_types, unique_types{i}));\n",
    "    fprintf('Type: %-10s Count: %d\\n', unique_types{i}, count);\n",
    "end\n",
    "\n",
    "% Alternative one-liner to get unique types with counts\n",
    "[unique_types, ~, idx] = unique(all_types);\n",
    "type_counts = accumarray(idx, 1);\n",
    "disp(table(unique_types', type_counts, 'VariableNames', {'Type', 'Count'}));\n",
    "```\n",
    "\n",
    "çıktı olarak bu şekilde tipleri görebiliyoruz.\n",
    "\n",
    "```\n",
    "Unique cycle types found:\n",
    "    {'charge'   }\n",
    "    {'discharge'}\n",
    "    {'impedance'}\n",
    "\n",
    "Type: charge     Count: 170\n",
    "Type: discharge  Count: 168\n",
    "Type: impedance  Count: 278\n",
    "        Type         Count\n",
    "    _____________    _____\n",
    "\n",
    "    {'charge'   }     170 \n",
    "    {'discharge'}     168 \n",
    "    {'impedance'}     278 \n",
    "\n",
    "```"
   ]
  },
  {
   "cell_type": "code",
   "execution_count": 71,
   "metadata": {},
   "outputs": [
    {
     "name": "stdout",
     "output_type": "stream",
     "text": [
      "dict_keys(['__header__', '__version__', '__globals__', 'B0005'])\n",
      "616\n",
      "dict_keys(['type', 'ambient_temperature', 'time', 'data'])\n",
      "--------------------------------------------------\n",
      "dict_keys(['Voltage_measured', 'Current_measured', 'Temperature_measured', 'Current_charge', 'Voltage_charge', 'Time'])\n"
     ]
    }
   ],
   "source": [
    "import scipy.io\n",
    "import pandas as pd\n",
    "import numpy as np\n",
    "\n",
    "# Load the .mat file with simplified structures\n",
    "mat_data = scipy.io.loadmat(\"dataset/B0005.mat\", simplify_cells=True)\n",
    "print(mat_data.keys())\n",
    "x = mat_data[\"B0005\"]\n",
    "cycle = x[\"cycle\"]\n",
    "print(len(cycle))\n",
    "print(cycle[0].keys())\n",
    "print(\"-\" * 50)\n",
    "print(cycle[0][\"data\"].keys())"
   ]
  },
  {
   "cell_type": "markdown",
   "metadata": {},
   "source": [
    "Özet olarak sizlere veri yapısını hızlıca yazayım."
   ]
  },
  {
   "cell_type": "markdown",
   "metadata": {},
   "source": [
    "- **Veri Yapısı**\n",
    "  - **cycle**: Akünün geçmişinde geçirdiği şarj-deşarj döngülerinin sayısını gösterir.\n",
    "    - **type**: İşlem türü, şarj, deşarj veya empedans olabilir.\n",
    "    - **ambient_temperature**: Ambient temperature (derece C).\n",
    "    - **time**: Döngünün başladığı tarih ve saat, MATLAB tarih vektörü formatında.\n",
    "    - **data**: Ölçümleri içeren veri yapısı.\n",
    "      - **Şarj durumundaki değişkenler**:\n",
    "        - **Voltage_measured**: Akünün ilgili tarih saatinde ölçülen ve volt (V) cinsinden ölçülen gerçek çıkış.\n",
    "        - **Current_measured**: Akünün ilgili tarih saatinde ölçülen ve amper (A) cinsinden ölçülen gerçek çıkış akımı değeri.\n",
    "        - **Temperature_measured**: İlgili tarih saatinde ölçülen ve Santigrat derece (°C) cinsinden ölçülen akünün iç sıcaklığı.\n",
    "        - **Current_charge**: Yükte ölçülen akım (Amper).\n",
    "        - **Voltage_charge**: Yükte ölçülen voltaj (Volt).\n",
    "        - **Time**: Döngü için zaman vektörü (saniye).\n",
    "      - **Deşarj durumundaki değişkenler**:\n",
    "        - **Voltage_measured**: Akünün ilgili tarih saatinde ölçülen ve volt (V) cinsinden ölçülen gerçek çıkış.\n",
    "        - **Current_measured**: Akünün ilgili tarih saatinde ölçülen ve amper (A) cinsinden ölçülen gerçek çıkış akımı değeri.\n",
    "        - **Temperature_measured**: İlgili tarih saatinde ölçülen ve Santigrat derece (°C) cinsinden ölçülen akünün iç sıcaklığı.\n",
    "        - **Current_charge**: Yükte ölçülen akım (Amper).\n",
    "        - **Voltage_charge**: Yükte ölçülen voltaj (Volt).\n",
    "        - **Time**: Döngü için zaman vektörü (saniye).\n",
    "        - **Capacity**: 2,7V'a kadar deşarj için pil kapasitesi (Ahr).\n",
    "      - **Empedans durumundaki değişkenler**:\n",
    "        - **Sense_current**: Duyu dalındaki akım (Amper).\n",
    "        - **Battery_current**: Akü kolundaki akım (Amper).\n",
    "        - **Current_ratio**: Yukarıdaki akımların oranı.\n",
    "        - **Battery_impedance**: Ham verilerden hesaplanan akü empedansı (Ohm).\n",
    "        - **Rectified_impedance**: Kalibre edilmiş ve düzeltilmiş akü empedansı (Ohm).\n",
    "        - **Re**: Tahmini elektrolit direnci (Ohm).\n",
    "        - **Rct**: Tahmini şarj aktarım direnci (Ohm).\n"
   ]
  },
  {
   "cell_type": "markdown",
   "metadata": {},
   "source": [
    "Ardından bu sürece pythondan devam ettim.Çünkü servislere python programlama dilinde ,fastapi  üzerinden  servislere implement edeceğim."
   ]
  },
  {
   "cell_type": "markdown",
   "metadata": {},
   "source": [
    "# EDA (AÇIKLAYICI VERİ ANALİZİ)\n",
    "\n",
    "Bu aşamada Automl araçlarını kullanarak açıklayıcı veri analizi gerçekleştireceğim çünkü zamanım az bu sebeple hazır paket kullanacağım.İlk olarak kütüphaneleri yükleyelim."
   ]
  },
  {
   "cell_type": "code",
   "execution_count": 1,
   "metadata": {},
   "outputs": [
    {
     "name": "stderr",
     "output_type": "stream",
     "text": [
      "2025-04-13 12:23:39.029507: I tensorflow/core/util/port.cc:113] oneDNN custom operations are on. You may see slightly different numerical results due to floating-point round-off errors from different computation orders. To turn them off, set the environment variable `TF_ENABLE_ONEDNN_OPTS=0`.\n",
      "2025-04-13 12:23:39.041134: E external/local_xla/xla/stream_executor/cuda/cuda_fft.cc:479] Unable to register cuFFT factory: Attempting to register factory for plugin cuFFT when one has already been registered\n",
      "2025-04-13 12:23:39.056540: E external/local_xla/xla/stream_executor/cuda/cuda_dnn.cc:10575] Unable to register cuDNN factory: Attempting to register factory for plugin cuDNN when one has already been registered\n",
      "2025-04-13 12:23:39.056570: E external/local_xla/xla/stream_executor/cuda/cuda_blas.cc:1442] Unable to register cuBLAS factory: Attempting to register factory for plugin cuBLAS when one has already been registered\n",
      "2025-04-13 12:23:39.066796: I tensorflow/core/platform/cpu_feature_guard.cc:210] This TensorFlow binary is optimized to use available CPU instructions in performance-critical operations.\n",
      "To enable the following instructions: AVX2 AVX_VNNI FMA, in other operations, rebuild TensorFlow with the appropriate compiler flags.\n",
      "2025-04-13 12:23:39.846824: W tensorflow/compiler/tf2tensorrt/utils/py_utils.cc:38] TF-TRT Warning: Could not find TensorRT\n"
     ]
    }
   ],
   "source": [
    "import datetime\n",
    "import numpy as np\n",
    "import pandas as pd\n",
    "from scipy.io import loadmat\n",
    "from sklearn.preprocessing import MinMaxScaler\n",
    "from sklearn.metrics import mean_squared_error\n",
    "from sklearn import metrics\n",
    "import matplotlib.pyplot as plt\n",
    "from tensorflow.keras.preprocessing.sequence import TimeseriesGenerator\n",
    "from sklearn.model_selection import train_test_split\n",
    "from tensorflow.keras.models import Sequential\n",
    "from tensorflow.keras.layers import LSTM, Dropout, Dense\n",
    "from tensorflow.keras.models import load_model\n",
    "from sklearn.metrics import mean_squared_error, mean_absolute_error\n",
    "import random as rnd"
   ]
  },
  {
   "cell_type": "markdown",
   "metadata": {},
   "source": [
    "Verileri her döngüde 10 gözlemden oluşan dizilere bölmek için veri ön işleme, diziler birbiriyle örtüşmektedir.Bu aşamada temel soc ve soh değerlerini elimizdeki veriler üzerinden oluşturacağız."
   ]
  },
  {
   "cell_type": "code",
   "execution_count": 2,
   "metadata": {},
   "outputs": [],
   "source": [
    "def generate_sequences(data, window_size):\n",
    "    X, y_capacity, y_SOC, y_SOH = [], [], [], []\n",
    "    cyclic_SOC_x, cyclic_SOC_y = [], []\n",
    "\n",
    "    cycles = data[\"cycle\"].unique()\n",
    "    initial_capacity = data.iloc[0][\"capacity\"]\n",
    "\n",
    "    # Normalize all 'capacity' values by the first row's 'capacity' value\n",
    "    data[\"SOH\"] = data[\"capacity\"] / initial_capacity\n",
    "\n",
    "    max_voltage = data[\"voltage_measured\"].max()\n",
    "    data[\"SOC\"] = data[\"voltage_measured\"] / max_voltage  # Normalized voltage as SoC\n",
    "\n",
    "    # dividing the data of each cycle into sequences\n",
    "    for cycle in cycles:\n",
    "        cycle_data = data[data[\"cycle\"] == cycle]\n",
    "        cycle_observations = []\n",
    "        num_rows = len(cycle_data)\n",
    "\n",
    "        if num_rows >= window_size:\n",
    "            for start in range(num_rows - window_size + 1):\n",
    "                end = start + window_size\n",
    "\n",
    "                features = (\n",
    "                    cycle_data.iloc[start:end]\n",
    "                    .drop([\"cycle\", \"capacity\", \"SOC\", \"SOH\"], axis=1)\n",
    "                    .values\n",
    "                )  # Exclude 'cycle', 'capacity', 'SOC', 'SOH'\n",
    "                target_capacity = cycle_data.iloc[\n",
    "                    end - 1, cycle_data.columns.get_loc(\"capacity\")\n",
    "                ]  # Capacity target\n",
    "                target_SOH = cycle_data.iloc[\n",
    "                    end - 1, cycle_data.columns.get_loc(\"SOH\")\n",
    "                ]  # SOH target\n",
    "                target_SOC = cycle_data.iloc[\n",
    "                    end - 1, cycle_data.columns.get_loc(\"SOC\")\n",
    "                ]  # SOC target\n",
    "                cycle_observations.append(features)\n",
    "                X.append(features)\n",
    "                y_capacity.append(target_capacity)\n",
    "                y_SOH.append(target_SOH)\n",
    "                y_SOC.append(target_SOC)\n",
    "\n",
    "            cyclic_SOC_x.append(y_capacity[-1])\n",
    "            cyclic_SOC_y.append(y_SOC[-1])\n",
    "\n",
    "    return (\n",
    "        np.array(X),\n",
    "        np.array(y_capacity),\n",
    "        np.array(y_SOH),\n",
    "        np.array(y_SOC),\n",
    "        np.array(cyclic_SOC_x),\n",
    "        np.array(cyclic_SOC_y),\n",
    "    )"
   ]
  },
  {
   "cell_type": "markdown",
   "metadata": {},
   "source": [
    "3 farklı tipte verim olmasına rağmen ,sadece discharge (şarjda olmayan ) durum üzerinde çalışacağım.Çünkü sarj durumda olmayan bataryada çalışmak daha mantıklı ,ek olarak bu veriseti üzerinde yapılan çalışmalar discharge durumdaki verilerde çalışılmış.Şimdi verisetlerimi yükleyip açıklayıcı veri analizi yapacağım."
   ]
  },
  {
   "cell_type": "code",
   "execution_count": 3,
   "metadata": {},
   "outputs": [],
   "source": [
    "file_path_0005 = \"dataset/B0005_discharge.csv\"\n",
    "file_path_0006 = \"dataset/B0006_discharge.csv\"\n",
    "file_path_0018 = \"dataset/B0018_discharge.csv\"\n",
    "\n",
    "# reading the data files\n",
    "data_0005 = pd.read_csv(file_path_0005)\n",
    "data_0006 = pd.read_csv(file_path_0006)\n",
    "data_0018 = pd.read_csv(file_path_0018)\n",
    "\n",
    "# making the sequnces for each data file\n",
    "X_0005, y_capacit_0005, y_SOH_0005, y_SOC_0005, cyclic_SOC_x_0005, cyclic_SOC_y_0005 = (\n",
    "    generate_sequences(data_0005, 10)\n",
    ")\n",
    "X_0006, y_capacit_0006, y_SOH_0006, y_SOC_0006, cyclic_SOC_x_0006, cyclic_SOC_y_0006 = (\n",
    "    generate_sequences(data_0006, 10)\n",
    ")\n",
    "\n",
    "X_0018, y_capacit_0018, y_SOH_0018, y_SOC_0018, cyclic_SOC_x_0018, cyclic_SOC_y_0018 = (\n",
    "    generate_sequences(data_0018, 10)\n",
    ")"
   ]
  },
  {
   "cell_type": "markdown",
   "metadata": {},
   "source": [
    "Elimizde bir regresyon problemi üzerinde model oluşturamız gerektiği için değişkenlerinizi x ve y kümelerine bölüp ,3 bataryaya ait verileri birleştirelim."
   ]
  },
  {
   "cell_type": "code",
   "execution_count": 4,
   "metadata": {},
   "outputs": [
    {
     "name": "stdout",
     "output_type": "stream",
     "text": [
      "Original columns: ['cycle', 'ambient_temperature', 'capacity', 'voltage_measured', 'current_measured', 'temperature_measured', 'current_load', 'voltage_load', 'time', 'SOH', 'SOC']\n",
      "Columns used in X: ['ambient_temperature', 'voltage_measured', 'current_measured', 'temperature_measured', 'current_load', 'voltage_load', 'time']\n"
     ]
    }
   ],
   "source": [
    "print(\"Original columns:\", data_0005.columns.tolist())\n",
    "print(\n",
    "    \"Columns used in X:\",\n",
    "    [\n",
    "        col\n",
    "        for col in data_0005.columns\n",
    "        if col not in [\"cycle\", \"capacity\", \"SOC\", \"SOH\"]\n",
    "    ],\n",
    ")"
   ]
  },
  {
   "cell_type": "code",
   "execution_count": 5,
   "metadata": {},
   "outputs": [],
   "source": [
    "import numpy as np\n",
    "import pandas as pd\n",
    "\n",
    "# concatenating the data\n",
    "X = np.concatenate((X_0005, X_0006, X_0018), axis=0)\n",
    "y_capacity = np.concatenate((y_capacit_0005, y_capacit_0006, y_capacit_0018), axis=0)\n",
    "y_SOH = np.concatenate((y_SOH_0005, y_SOH_0006, y_SOH_0018), axis=0)\n",
    "y_SOC = np.concatenate((y_SOC_0005, y_SOC_0006, y_SOC_0018), axis=0)\n",
    "cyclic_SOC_x = np.concatenate(\n",
    "    (cyclic_SOC_x_0005, cyclic_SOC_x_0006, cyclic_SOC_x_0018), axis=0\n",
    ")\n",
    "cyclic_SOC_y = np.concatenate(\n",
    "    (cyclic_SOC_y_0005, cyclic_SOC_y_0006, cyclic_SOC_y_0018), axis=0\n",
    ")"
   ]
  },
  {
   "cell_type": "markdown",
   "metadata": {},
   "source": [
    "Her bir bataryaya açıklayıcı veri analizi uygulayacağım .Eda_raporları klasörü içerisinde detaylı olarak erişebilirsiniz."
   ]
  },
  {
   "cell_type": "code",
   "execution_count": 80,
   "metadata": {},
   "outputs": [
    {
     "data": {
      "application/vnd.jupyter.widget-view+json": {
       "model_id": "a184566a1e6c4f2fb5ce34f3b13b1fca",
       "version_major": 2,
       "version_minor": 0
      },
      "text/plain": [
       "Summarize dataset:   0%|          | 0/5 [00:00<?, ?it/s]"
      ]
     },
     "metadata": {},
     "output_type": "display_data"
    },
    {
     "data": {
      "application/vnd.jupyter.widget-view+json": {
       "model_id": "d818b1229d2c42919b2acfcf569d5511",
       "version_major": 2,
       "version_minor": 0
      },
      "text/plain": [
       "Generate report structure:   0%|          | 0/1 [00:00<?, ?it/s]"
      ]
     },
     "metadata": {},
     "output_type": "display_data"
    },
    {
     "data": {
      "application/vnd.jupyter.widget-view+json": {
       "model_id": "0d2312d102574f95a32d6227d1eaa1f6",
       "version_major": 2,
       "version_minor": 0
      },
      "text/plain": [
       "Render HTML:   0%|          | 0/1 [00:00<?, ?it/s]"
      ]
     },
     "metadata": {},
     "output_type": "display_data"
    },
    {
     "data": {
      "application/vnd.jupyter.widget-view+json": {
       "model_id": "354d69aa88dd42cd88cb8af7b5dbefea",
       "version_major": 2,
       "version_minor": 0
      },
      "text/plain": [
       "Export report to file:   0%|          | 0/1 [00:00<?, ?it/s]"
      ]
     },
     "metadata": {},
     "output_type": "display_data"
    }
   ],
   "source": [
    "from ydata_profiling import ProfileReport\n",
    "\n",
    "profile = ProfileReport(data_0006, title=\"6 numaralı batarya\")\n",
    "profile.to_file(\"batarya_6.html\")"
   ]
  },
  {
   "cell_type": "markdown",
   "metadata": {},
   "source": [
    "Açıklayıcı veri analizi raporlarından sonra bütün değişkenleri kullanmaya karar verdim.Çünkü alanda gerçekten bilgi sahibi değilim."
   ]
  },
  {
   "cell_type": "markdown",
   "metadata": {},
   "source": [
    "# MODEL OLUŞTURMA \n",
    "# SOH İÇİN MODEL OLUŞTURMA"
   ]
  },
  {
   "cell_type": "code",
   "execution_count": null,
   "metadata": {},
   "outputs": [],
   "source": [
    "pip install \"flaml[autogen]\""
   ]
  },
  {
   "cell_type": "code",
   "execution_count": 6,
   "metadata": {},
   "outputs": [],
   "source": [
    "# spliting data into train, test, validation\n",
    "X_SOH_train, X_SOH_testval, y_SOH_train, y_SOH_testval = train_test_split(\n",
    "    X, y_SOH, test_size=0.2, random_state=42\n",
    ")\n",
    "\n",
    "X_SOH_test, X_SOH_validation, y_SOH_test, y_SOH_validation = train_test_split(\n",
    "    X_SOH_testval, y_SOH_testval, test_size=0.5, random_state=42\n",
    ")"
   ]
  },
  {
   "cell_type": "code",
   "execution_count": 82,
   "metadata": {},
   "outputs": [
    {
     "name": "stdout",
     "output_type": "stream",
     "text": [
      "[flaml.automl.logger: 04-11 02:23:24] {1728} INFO - task = regression\n",
      "[flaml.automl.logger: 04-11 02:23:24] {1739} INFO - Evaluation method: holdout\n",
      "[flaml.automl.logger: 04-11 02:23:24] {1838} INFO - Minimizing error metric: 1-r2\n",
      "[flaml.automl.logger: 04-11 02:23:24] {1955} INFO - List of ML learners in AutoML Run: ['lgbm', 'rf', 'xgboost', 'extra_tree', 'xgb_limitdepth', 'sgd']\n",
      "[flaml.automl.logger: 04-11 02:23:24] {2258} INFO - iteration 0, current learner lgbm\n",
      "[flaml.automl.logger: 04-11 02:23:24] {2393} INFO - Estimated sufficient time budget=4894s. Estimated necessary time budget=35s.\n",
      "[flaml.automl.logger: 04-11 02:23:24] {2442} INFO -  at 0.1s,\testimator lgbm's best error=0.8104,\tbest estimator lgbm's best error=0.8104\n",
      "[flaml.automl.logger: 04-11 02:23:24] {2258} INFO - iteration 1, current learner lgbm\n",
      "[flaml.automl.logger: 04-11 02:23:24] {2442} INFO -  at 0.2s,\testimator lgbm's best error=0.8104,\tbest estimator lgbm's best error=0.8104\n",
      "[flaml.automl.logger: 04-11 02:23:24] {2258} INFO - iteration 2, current learner sgd\n"
     ]
    },
    {
     "name": "stderr",
     "output_type": "stream",
     "text": [
      "INFO:flaml.tune.searcher.blendsearch:No low-cost partial config given to the search algorithm. For cost-frugal search, consider providing low-cost values for cost-related hps via 'low_cost_partial_config'. More info can be found at https://microsoft.github.io/FLAML/docs/FAQ#about-low_cost_partial_config-in-tune\n"
     ]
    },
    {
     "name": "stdout",
     "output_type": "stream",
     "text": [
      "[flaml.automl.logger: 04-11 02:23:24] {2442} INFO -  at 0.2s,\testimator sgd's best error=1.0053,\tbest estimator lgbm's best error=0.8104\n",
      "[flaml.automl.logger: 04-11 02:23:24] {2258} INFO - iteration 3, current learner sgd\n",
      "[flaml.automl.logger: 04-11 02:23:24] {2442} INFO -  at 0.3s,\testimator sgd's best error=1.0003,\tbest estimator lgbm's best error=0.8104\n",
      "[flaml.automl.logger: 04-11 02:23:24] {2258} INFO - iteration 4, current learner xgboost\n",
      "[flaml.automl.logger: 04-11 02:23:25] {2442} INFO -  at 0.8s,\testimator xgboost's best error=0.8106,\tbest estimator lgbm's best error=0.8104\n",
      "[flaml.automl.logger: 04-11 02:23:25] {2258} INFO - iteration 5, current learner lgbm\n",
      "[flaml.automl.logger: 04-11 02:23:25] {2442} INFO -  at 0.9s,\testimator lgbm's best error=0.6311,\tbest estimator lgbm's best error=0.6311\n",
      "[flaml.automl.logger: 04-11 02:23:25] {2258} INFO - iteration 6, current learner extra_tree\n",
      "[flaml.automl.logger: 04-11 02:23:25] {2442} INFO -  at 0.9s,\testimator extra_tree's best error=0.6525,\tbest estimator lgbm's best error=0.6311\n",
      "[flaml.automl.logger: 04-11 02:23:25] {2258} INFO - iteration 7, current learner xgboost\n",
      "[flaml.automl.logger: 04-11 02:23:25] {2442} INFO -  at 1.1s,\testimator xgboost's best error=0.8106,\tbest estimator lgbm's best error=0.6311\n",
      "[flaml.automl.logger: 04-11 02:23:25] {2258} INFO - iteration 8, current learner lgbm\n",
      "[flaml.automl.logger: 04-11 02:23:25] {2442} INFO -  at 1.3s,\testimator lgbm's best error=0.1560,\tbest estimator lgbm's best error=0.1560\n",
      "[flaml.automl.logger: 04-11 02:23:25] {2258} INFO - iteration 9, current learner rf\n",
      "[flaml.automl.logger: 04-11 02:23:26] {2442} INFO -  at 1.6s,\testimator rf's best error=0.6444,\tbest estimator lgbm's best error=0.1560\n",
      "[flaml.automl.logger: 04-11 02:23:26] {2258} INFO - iteration 10, current learner lgbm\n",
      "[flaml.automl.logger: 04-11 02:23:26] {2442} INFO -  at 1.7s,\testimator lgbm's best error=0.1560,\tbest estimator lgbm's best error=0.1560\n",
      "[flaml.automl.logger: 04-11 02:23:26] {2258} INFO - iteration 11, current learner lgbm\n",
      "[flaml.automl.logger: 04-11 02:23:26] {2442} INFO -  at 1.8s,\testimator lgbm's best error=0.1225,\tbest estimator lgbm's best error=0.1225\n",
      "[flaml.automl.logger: 04-11 02:23:26] {2258} INFO - iteration 12, current learner lgbm\n",
      "[flaml.automl.logger: 04-11 02:23:26] {2442} INFO -  at 2.1s,\testimator lgbm's best error=0.1225,\tbest estimator lgbm's best error=0.1225\n",
      "[flaml.automl.logger: 04-11 02:23:26] {2258} INFO - iteration 13, current learner xgboost\n",
      "[flaml.automl.logger: 04-11 02:23:26] {2442} INFO -  at 2.3s,\testimator xgboost's best error=0.6267,\tbest estimator lgbm's best error=0.1225\n",
      "[flaml.automl.logger: 04-11 02:23:26] {2258} INFO - iteration 14, current learner extra_tree\n",
      "[flaml.automl.logger: 04-11 02:23:26] {2442} INFO -  at 2.4s,\testimator extra_tree's best error=0.1967,\tbest estimator lgbm's best error=0.1225\n",
      "[flaml.automl.logger: 04-11 02:23:26] {2258} INFO - iteration 15, current learner extra_tree\n",
      "[flaml.automl.logger: 04-11 02:23:26] {2442} INFO -  at 2.5s,\testimator extra_tree's best error=0.1967,\tbest estimator lgbm's best error=0.1225\n",
      "[flaml.automl.logger: 04-11 02:23:26] {2258} INFO - iteration 16, current learner extra_tree\n",
      "[flaml.automl.logger: 04-11 02:23:27] {2442} INFO -  at 2.6s,\testimator extra_tree's best error=0.0733,\tbest estimator extra_tree's best error=0.0733\n",
      "[flaml.automl.logger: 04-11 02:23:27] {2258} INFO - iteration 17, current learner rf\n",
      "[flaml.automl.logger: 04-11 02:23:27] {2442} INFO -  at 3.1s,\testimator rf's best error=0.2211,\tbest estimator extra_tree's best error=0.0733\n",
      "[flaml.automl.logger: 04-11 02:23:27] {2258} INFO - iteration 18, current learner extra_tree\n",
      "[flaml.automl.logger: 04-11 02:23:27] {2442} INFO -  at 3.2s,\testimator extra_tree's best error=0.0301,\tbest estimator extra_tree's best error=0.0301\n",
      "[flaml.automl.logger: 04-11 02:23:27] {2258} INFO - iteration 19, current learner lgbm\n",
      "[flaml.automl.logger: 04-11 02:23:27] {2442} INFO -  at 3.3s,\testimator lgbm's best error=0.1225,\tbest estimator extra_tree's best error=0.0301\n",
      "[flaml.automl.logger: 04-11 02:23:27] {2258} INFO - iteration 20, current learner extra_tree\n",
      "[flaml.automl.logger: 04-11 02:23:27] {2442} INFO -  at 3.4s,\testimator extra_tree's best error=0.0301,\tbest estimator extra_tree's best error=0.0301\n",
      "[flaml.automl.logger: 04-11 02:23:27] {2258} INFO - iteration 21, current learner extra_tree\n",
      "[flaml.automl.logger: 04-11 02:23:28] {2442} INFO -  at 3.6s,\testimator extra_tree's best error=0.0209,\tbest estimator extra_tree's best error=0.0209\n",
      "[flaml.automl.logger: 04-11 02:23:28] {2258} INFO - iteration 22, current learner extra_tree\n",
      "[flaml.automl.logger: 04-11 02:23:28] {2442} INFO -  at 3.8s,\testimator extra_tree's best error=0.0209,\tbest estimator extra_tree's best error=0.0209\n",
      "[flaml.automl.logger: 04-11 02:23:28] {2258} INFO - iteration 23, current learner rf\n",
      "[flaml.automl.logger: 04-11 02:23:28] {2442} INFO -  at 4.1s,\testimator rf's best error=0.2211,\tbest estimator extra_tree's best error=0.0209\n",
      "[flaml.automl.logger: 04-11 02:23:28] {2258} INFO - iteration 24, current learner rf\n",
      "[flaml.automl.logger: 04-11 02:23:29] {2442} INFO -  at 4.9s,\testimator rf's best error=0.0692,\tbest estimator extra_tree's best error=0.0209\n",
      "[flaml.automl.logger: 04-11 02:23:29] {2258} INFO - iteration 25, current learner extra_tree\n",
      "[flaml.automl.logger: 04-11 02:23:29] {2442} INFO -  at 5.1s,\testimator extra_tree's best error=0.0160,\tbest estimator extra_tree's best error=0.0160\n",
      "[flaml.automl.logger: 04-11 02:23:29] {2258} INFO - iteration 26, current learner extra_tree\n",
      "[flaml.automl.logger: 04-11 02:23:29] {2442} INFO -  at 5.3s,\testimator extra_tree's best error=0.0160,\tbest estimator extra_tree's best error=0.0160\n",
      "[flaml.automl.logger: 04-11 02:23:29] {2258} INFO - iteration 27, current learner xgboost\n",
      "[flaml.automl.logger: 04-11 02:23:29] {2442} INFO -  at 5.4s,\testimator xgboost's best error=0.3895,\tbest estimator extra_tree's best error=0.0160\n",
      "[flaml.automl.logger: 04-11 02:23:29] {2258} INFO - iteration 28, current learner xgboost\n",
      "[flaml.automl.logger: 04-11 02:23:29] {2442} INFO -  at 5.5s,\testimator xgboost's best error=0.3895,\tbest estimator extra_tree's best error=0.0160\n",
      "[flaml.automl.logger: 04-11 02:23:29] {2258} INFO - iteration 29, current learner extra_tree\n",
      "[flaml.automl.logger: 04-11 02:23:30] {2442} INFO -  at 5.7s,\testimator extra_tree's best error=0.0160,\tbest estimator extra_tree's best error=0.0160\n",
      "[flaml.automl.logger: 04-11 02:23:30] {2258} INFO - iteration 30, current learner extra_tree\n",
      "[flaml.automl.logger: 04-11 02:23:30] {2442} INFO -  at 6.0s,\testimator extra_tree's best error=0.0160,\tbest estimator extra_tree's best error=0.0160\n",
      "[flaml.automl.logger: 04-11 02:23:30] {2258} INFO - iteration 31, current learner rf\n",
      "[flaml.automl.logger: 04-11 02:23:31] {2442} INFO -  at 6.8s,\testimator rf's best error=0.0316,\tbest estimator extra_tree's best error=0.0160\n",
      "[flaml.automl.logger: 04-11 02:23:31] {2258} INFO - iteration 32, current learner lgbm\n",
      "[flaml.automl.logger: 04-11 02:23:31] {2442} INFO -  at 7.4s,\testimator lgbm's best error=0.1167,\tbest estimator extra_tree's best error=0.0160\n",
      "[flaml.automl.logger: 04-11 02:23:31] {2258} INFO - iteration 33, current learner rf\n",
      "[flaml.automl.logger: 04-11 02:23:32] {2442} INFO -  at 8.2s,\testimator rf's best error=0.0316,\tbest estimator extra_tree's best error=0.0160\n",
      "[flaml.automl.logger: 04-11 02:23:32] {2258} INFO - iteration 34, current learner extra_tree\n",
      "[flaml.automl.logger: 04-11 02:23:32] {2442} INFO -  at 8.4s,\testimator extra_tree's best error=0.0160,\tbest estimator extra_tree's best error=0.0160\n",
      "[flaml.automl.logger: 04-11 02:23:32] {2258} INFO - iteration 35, current learner rf\n",
      "[flaml.automl.logger: 04-11 02:23:33] {2442} INFO -  at 9.3s,\testimator rf's best error=0.0245,\tbest estimator extra_tree's best error=0.0160\n",
      "[flaml.automl.logger: 04-11 02:23:33] {2258} INFO - iteration 36, current learner xgboost\n",
      "[flaml.automl.logger: 04-11 02:23:33] {2442} INFO -  at 9.5s,\testimator xgboost's best error=0.3895,\tbest estimator extra_tree's best error=0.0160\n",
      "[flaml.automl.logger: 04-11 02:23:33] {2258} INFO - iteration 37, current learner extra_tree\n",
      "[flaml.automl.logger: 04-11 02:23:34] {2442} INFO -  at 9.9s,\testimator extra_tree's best error=0.0144,\tbest estimator extra_tree's best error=0.0144\n",
      "[flaml.automl.logger: 04-11 02:23:34] {2258} INFO - iteration 38, current learner xgboost\n",
      "[flaml.automl.logger: 04-11 02:23:34] {2442} INFO -  at 10.2s,\testimator xgboost's best error=0.3895,\tbest estimator extra_tree's best error=0.0144\n",
      "[flaml.automl.logger: 04-11 02:23:34] {2258} INFO - iteration 39, current learner extra_tree\n",
      "[flaml.automl.logger: 04-11 02:23:34] {2442} INFO -  at 10.4s,\testimator extra_tree's best error=0.0144,\tbest estimator extra_tree's best error=0.0144\n",
      "[flaml.automl.logger: 04-11 02:23:34] {2258} INFO - iteration 40, current learner xgboost\n",
      "[flaml.automl.logger: 04-11 02:23:35] {2442} INFO -  at 10.8s,\testimator xgboost's best error=0.2512,\tbest estimator extra_tree's best error=0.0144\n",
      "[flaml.automl.logger: 04-11 02:23:35] {2258} INFO - iteration 41, current learner extra_tree\n",
      "[flaml.automl.logger: 04-11 02:23:35] {2442} INFO -  at 11.2s,\testimator extra_tree's best error=0.0142,\tbest estimator extra_tree's best error=0.0142\n",
      "[flaml.automl.logger: 04-11 02:23:35] {2258} INFO - iteration 42, current learner extra_tree\n",
      "[flaml.automl.logger: 04-11 02:23:36] {2442} INFO -  at 11.6s,\testimator extra_tree's best error=0.0142,\tbest estimator extra_tree's best error=0.0142\n",
      "[flaml.automl.logger: 04-11 02:23:36] {2258} INFO - iteration 43, current learner rf\n",
      "[flaml.automl.logger: 04-11 02:23:36] {2442} INFO -  at 12.5s,\testimator rf's best error=0.0245,\tbest estimator extra_tree's best error=0.0142\n",
      "[flaml.automl.logger: 04-11 02:23:36] {2258} INFO - iteration 44, current learner extra_tree\n",
      "[flaml.automl.logger: 04-11 02:23:37] {2442} INFO -  at 13.5s,\testimator extra_tree's best error=0.0134,\tbest estimator extra_tree's best error=0.0134\n",
      "[flaml.automl.logger: 04-11 02:23:37] {2258} INFO - iteration 45, current learner sgd\n",
      "[flaml.automl.logger: 04-11 02:23:38] {2442} INFO -  at 13.5s,\testimator sgd's best error=1.0003,\tbest estimator extra_tree's best error=0.0134\n",
      "[flaml.automl.logger: 04-11 02:23:38] {2258} INFO - iteration 46, current learner extra_tree\n",
      "[flaml.automl.logger: 04-11 02:23:38] {2442} INFO -  at 13.9s,\testimator extra_tree's best error=0.0134,\tbest estimator extra_tree's best error=0.0134\n",
      "[flaml.automl.logger: 04-11 02:23:38] {2258} INFO - iteration 47, current learner xgboost\n",
      "[flaml.automl.logger: 04-11 02:23:39] {2442} INFO -  at 14.5s,\testimator xgboost's best error=0.2512,\tbest estimator extra_tree's best error=0.0134\n",
      "[flaml.automl.logger: 04-11 02:23:39] {2258} INFO - iteration 48, current learner extra_tree\n",
      "[flaml.automl.logger: 04-11 02:23:39] {2442} INFO -  at 15.1s,\testimator extra_tree's best error=0.0134,\tbest estimator extra_tree's best error=0.0134\n",
      "[flaml.automl.logger: 04-11 02:23:39] {2258} INFO - iteration 49, current learner rf\n",
      "[flaml.automl.logger: 04-11 02:23:40] {2442} INFO -  at 16.1s,\testimator rf's best error=0.0194,\tbest estimator extra_tree's best error=0.0134\n",
      "[flaml.automl.logger: 04-11 02:23:40] {2258} INFO - iteration 50, current learner extra_tree\n",
      "[flaml.automl.logger: 04-11 02:23:42] {2442} INFO -  at 17.9s,\testimator extra_tree's best error=0.0134,\tbest estimator extra_tree's best error=0.0134\n",
      "[flaml.automl.logger: 04-11 02:23:42] {2258} INFO - iteration 51, current learner extra_tree\n",
      "[flaml.automl.logger: 04-11 02:23:42] {2442} INFO -  at 18.5s,\testimator extra_tree's best error=0.0134,\tbest estimator extra_tree's best error=0.0134\n",
      "[flaml.automl.logger: 04-11 02:23:42] {2258} INFO - iteration 52, current learner rf\n",
      "[flaml.automl.logger: 04-11 02:23:43] {2442} INFO -  at 19.5s,\testimator rf's best error=0.0194,\tbest estimator extra_tree's best error=0.0134\n",
      "[flaml.automl.logger: 04-11 02:23:43] {2258} INFO - iteration 53, current learner xgboost\n",
      "[flaml.automl.logger: 04-11 02:23:45] {2442} INFO -  at 20.6s,\testimator xgboost's best error=0.1137,\tbest estimator extra_tree's best error=0.0134\n",
      "[flaml.automl.logger: 04-11 02:23:45] {2258} INFO - iteration 54, current learner rf\n",
      "[flaml.automl.logger: 04-11 02:23:46] {2442} INFO -  at 21.5s,\testimator rf's best error=0.0194,\tbest estimator extra_tree's best error=0.0134\n",
      "[flaml.automl.logger: 04-11 02:23:46] {2258} INFO - iteration 55, current learner lgbm\n",
      "[flaml.automl.logger: 04-11 02:23:46] {2442} INFO -  at 21.9s,\testimator lgbm's best error=0.1167,\tbest estimator extra_tree's best error=0.0134\n",
      "[flaml.automl.logger: 04-11 02:23:46] {2258} INFO - iteration 56, current learner extra_tree\n",
      "[flaml.automl.logger: 04-11 02:23:47] {2442} INFO -  at 22.6s,\testimator extra_tree's best error=0.0134,\tbest estimator extra_tree's best error=0.0134\n",
      "[flaml.automl.logger: 04-11 02:23:47] {2258} INFO - iteration 57, current learner xgboost\n",
      "[flaml.automl.logger: 04-11 02:23:47] {2442} INFO -  at 22.8s,\testimator xgboost's best error=0.1137,\tbest estimator extra_tree's best error=0.0134\n",
      "[flaml.automl.logger: 04-11 02:23:47] {2258} INFO - iteration 58, current learner xgboost\n",
      "[flaml.automl.logger: 04-11 02:23:47] {2442} INFO -  at 23.1s,\testimator xgboost's best error=0.1137,\tbest estimator extra_tree's best error=0.0134\n",
      "[flaml.automl.logger: 04-11 02:23:47] {2258} INFO - iteration 59, current learner xgb_limitdepth\n",
      "[flaml.automl.logger: 04-11 02:23:49] {2442} INFO -  at 24.9s,\testimator xgb_limitdepth's best error=0.2011,\tbest estimator extra_tree's best error=0.0134\n",
      "[flaml.automl.logger: 04-11 02:23:49] {2258} INFO - iteration 60, current learner extra_tree\n",
      "[flaml.automl.logger: 04-11 02:23:50] {2442} INFO -  at 25.9s,\testimator extra_tree's best error=0.0134,\tbest estimator extra_tree's best error=0.0134\n",
      "[flaml.automl.logger: 04-11 02:23:50] {2258} INFO - iteration 61, current learner rf\n",
      "[flaml.automl.logger: 04-11 02:23:51] {2442} INFO -  at 27.1s,\testimator rf's best error=0.0186,\tbest estimator extra_tree's best error=0.0134\n",
      "[flaml.automl.logger: 04-11 02:23:51] {2258} INFO - iteration 62, current learner extra_tree\n",
      "[flaml.automl.logger: 04-11 02:23:58] {2442} INFO -  at 33.6s,\testimator extra_tree's best error=0.0057,\tbest estimator extra_tree's best error=0.0057\n",
      "[flaml.automl.logger: 04-11 02:23:58] {2258} INFO - iteration 63, current learner xgboost\n",
      "[flaml.automl.logger: 04-11 02:23:59] {2442} INFO -  at 35.2s,\testimator xgboost's best error=0.0490,\tbest estimator extra_tree's best error=0.0057\n",
      "[flaml.automl.logger: 04-11 02:23:59] {2258} INFO - iteration 64, current learner extra_tree\n",
      "[flaml.automl.logger: 04-11 02:24:09] {2442} INFO -  at 45.1s,\testimator extra_tree's best error=0.0057,\tbest estimator extra_tree's best error=0.0057\n",
      "[flaml.automl.logger: 04-11 02:24:09] {2258} INFO - iteration 65, current learner xgb_limitdepth\n",
      "[flaml.automl.logger: 04-11 02:24:09] {2442} INFO -  at 45.4s,\testimator xgb_limitdepth's best error=0.2011,\tbest estimator extra_tree's best error=0.0057\n",
      "[flaml.automl.logger: 04-11 02:24:09] {2258} INFO - iteration 66, current learner xgboost\n",
      "[flaml.automl.logger: 04-11 02:24:11] {2442} INFO -  at 46.7s,\testimator xgboost's best error=0.0490,\tbest estimator extra_tree's best error=0.0057\n",
      "[flaml.automl.logger: 04-11 02:24:11] {2258} INFO - iteration 67, current learner extra_tree\n",
      "[flaml.automl.logger: 04-11 02:24:15] {2442} INFO -  at 51.0s,\testimator extra_tree's best error=0.0057,\tbest estimator extra_tree's best error=0.0057\n",
      "[flaml.automl.logger: 04-11 02:24:15] {2258} INFO - iteration 68, current learner xgb_limitdepth\n",
      "[flaml.automl.logger: 04-11 02:24:15] {2442} INFO -  at 51.2s,\testimator xgb_limitdepth's best error=0.0554,\tbest estimator extra_tree's best error=0.0057\n",
      "[flaml.automl.logger: 04-11 02:24:15] {2258} INFO - iteration 69, current learner xgb_limitdepth\n",
      "[flaml.automl.logger: 04-11 02:24:15] {2442} INFO -  at 51.3s,\testimator xgb_limitdepth's best error=0.0554,\tbest estimator extra_tree's best error=0.0057\n",
      "[flaml.automl.logger: 04-11 02:24:15] {2258} INFO - iteration 70, current learner xgboost\n",
      "[flaml.automl.logger: 04-11 02:24:17] {2442} INFO -  at 52.7s,\testimator xgboost's best error=0.0458,\tbest estimator extra_tree's best error=0.0057\n",
      "[flaml.automl.logger: 04-11 02:24:17] {2258} INFO - iteration 71, current learner xgb_limitdepth\n",
      "[flaml.automl.logger: 04-11 02:24:17] {2442} INFO -  at 53.2s,\testimator xgb_limitdepth's best error=0.0554,\tbest estimator extra_tree's best error=0.0057\n",
      "[flaml.automl.logger: 04-11 02:24:17] {2258} INFO - iteration 72, current learner xgb_limitdepth\n",
      "[flaml.automl.logger: 04-11 02:24:18] {2442} INFO -  at 53.6s,\testimator xgb_limitdepth's best error=0.0554,\tbest estimator extra_tree's best error=0.0057\n",
      "[flaml.automl.logger: 04-11 02:24:18] {2258} INFO - iteration 73, current learner xgb_limitdepth\n",
      "[flaml.automl.logger: 04-11 02:24:18] {2442} INFO -  at 54.4s,\testimator xgb_limitdepth's best error=0.0433,\tbest estimator extra_tree's best error=0.0057\n",
      "[flaml.automl.logger: 04-11 02:24:18] {2258} INFO - iteration 74, current learner sgd\n",
      "[flaml.automl.logger: 04-11 02:24:18] {2442} INFO -  at 54.4s,\testimator sgd's best error=1.0003,\tbest estimator extra_tree's best error=0.0057\n",
      "[flaml.automl.logger: 04-11 02:24:18] {2258} INFO - iteration 75, current learner xgb_limitdepth\n",
      "[flaml.automl.logger: 04-11 02:24:19] {2442} INFO -  at 54.9s,\testimator xgb_limitdepth's best error=0.0433,\tbest estimator extra_tree's best error=0.0057\n",
      "[flaml.automl.logger: 04-11 02:24:19] {2258} INFO - iteration 76, current learner sgd\n",
      "[flaml.automl.logger: 04-11 02:24:19] {2442} INFO -  at 55.0s,\testimator sgd's best error=1.0003,\tbest estimator extra_tree's best error=0.0057\n",
      "[flaml.automl.logger: 04-11 02:24:19] {2258} INFO - iteration 77, current learner lgbm\n",
      "[flaml.automl.logger: 04-11 02:24:19] {2442} INFO -  at 55.3s,\testimator lgbm's best error=0.0221,\tbest estimator extra_tree's best error=0.0057\n",
      "[flaml.automl.logger: 04-11 02:24:19] {2258} INFO - iteration 78, current learner lgbm\n",
      "[flaml.automl.logger: 04-11 02:24:21] {2442} INFO -  at 57.4s,\testimator lgbm's best error=0.0221,\tbest estimator extra_tree's best error=0.0057\n",
      "[flaml.automl.logger: 04-11 02:24:21] {2258} INFO - iteration 79, current learner lgbm\n",
      "[flaml.automl.logger: 04-11 02:24:22] {2442} INFO -  at 57.7s,\testimator lgbm's best error=0.0221,\tbest estimator extra_tree's best error=0.0057\n",
      "[flaml.automl.logger: 04-11 02:24:22] {2258} INFO - iteration 80, current learner lgbm\n",
      "[flaml.automl.logger: 04-11 02:24:22] {2442} INFO -  at 58.1s,\testimator lgbm's best error=0.0221,\tbest estimator extra_tree's best error=0.0057\n",
      "[flaml.automl.logger: 04-11 02:24:22] {2258} INFO - iteration 81, current learner lgbm\n",
      "[flaml.automl.logger: 04-11 02:24:22] {2442} INFO -  at 58.5s,\testimator lgbm's best error=0.0142,\tbest estimator extra_tree's best error=0.0057\n",
      "[flaml.automl.logger: 04-11 02:24:22] {2258} INFO - iteration 82, current learner xgb_limitdepth\n",
      "[flaml.automl.logger: 04-11 02:24:23] {2442} INFO -  at 59.5s,\testimator xgb_limitdepth's best error=0.0433,\tbest estimator extra_tree's best error=0.0057\n",
      "[flaml.automl.logger: 04-11 02:24:23] {2258} INFO - iteration 83, current learner lgbm\n",
      "[flaml.automl.logger: 04-11 02:24:24] {2442} INFO -  at 59.9s,\testimator lgbm's best error=0.0142,\tbest estimator extra_tree's best error=0.0057\n",
      "[flaml.automl.logger: 04-11 02:24:24] {2258} INFO - iteration 84, current learner sgd\n",
      "[flaml.automl.logger: 04-11 02:24:24] {2442} INFO -  at 59.9s,\testimator sgd's best error=0.9881,\tbest estimator extra_tree's best error=0.0057\n",
      "[flaml.automl.logger: 04-11 02:24:24] {2258} INFO - iteration 85, current learner sgd\n",
      "[flaml.automl.logger: 04-11 02:24:24] {2442} INFO -  at 59.9s,\testimator sgd's best error=0.9881,\tbest estimator extra_tree's best error=0.0057\n",
      "[flaml.automl.logger: 04-11 02:24:24] {2258} INFO - iteration 86, current learner sgd\n",
      "[flaml.automl.logger: 04-11 02:24:24] {2442} INFO -  at 59.9s,\testimator sgd's best error=0.9881,\tbest estimator extra_tree's best error=0.0057\n",
      "[flaml.automl.logger: 04-11 02:24:24] {2258} INFO - iteration 87, current learner sgd\n",
      "[flaml.automl.logger: 04-11 02:24:24] {2442} INFO -  at 60.0s,\testimator sgd's best error=0.9881,\tbest estimator extra_tree's best error=0.0057\n",
      "[flaml.automl.logger: 04-11 02:24:24] {2258} INFO - iteration 88, current learner sgd\n",
      "[flaml.automl.logger: 04-11 02:24:24] {2442} INFO -  at 60.2s,\testimator sgd's best error=0.9252,\tbest estimator extra_tree's best error=0.0057\n",
      "[flaml.automl.logger: 04-11 02:24:30] {2685} INFO - retrain extra_tree for 5.5s\n",
      "[flaml.automl.logger: 04-11 02:24:30] {2688} INFO - retrained model: ExtraTreesRegressor(max_features=0.5744573026671392, max_leaf_nodes=11819,\n",
      "                    n_estimators=147, n_jobs=-1, random_state=12032022)\n",
      "[flaml.automl.logger: 04-11 02:24:30] {1985} INFO - fit succeeded\n",
      "[flaml.automl.logger: 04-11 02:24:30] {1986} INFO - Time taken to find the best model: 33.604525327682495\n",
      "Predictions: [0.59699506 0.96535596 0.69903191 ... 0.86866896 0.96241295 0.70026191]\n",
      "\n",
      "Best model: ExtraTreesRegressor(max_features=0.5744573026671392, max_leaf_nodes=11819,\n",
      "                    n_estimators=147, n_jobs=-1, random_state=12032022)\n",
      "\n",
      "Feature importances: [0.         0.01700185 0.00816615 0.00409679 0.01665659 0.00726261\n",
      " 0.03792354 0.         0.01698394 0.00113943 0.00356564 0.0302357\n",
      " 0.00778488 0.03978829 0.         0.01954599 0.00262329 0.00609884\n",
      " 0.07249802 0.00949151 0.03815271 0.         0.0195059  0.00162947\n",
      " 0.00387041 0.03756239 0.0074113  0.03752632 0.         0.020463\n",
      " 0.00139433 0.00385114 0.02356849 0.00915116 0.0363984  0.\n",
      " 0.02214605 0.00234322 0.00281411 0.01261914 0.00952224 0.03869473\n",
      " 0.         0.02602956 0.00184714 0.00309372 0.00853483 0.01159234\n",
      " 0.03412016 0.         0.03161182 0.00079693 0.00184982 0.00814573\n",
      " 0.01487151 0.03766382 0.         0.03099838 0.00262407 0.00148556\n",
      " 0.00660879 0.01653095 0.03406587 0.         0.03271944 0.00147203\n",
      " 0.00208389 0.00563891 0.01911289 0.03701426]\n"
     ]
    }
   ],
   "source": [
    "from flaml import AutoML\n",
    "import numpy as np\n",
    "\n",
    "# Reshape 3D data to 2D for AutoML\n",
    "# Original shape: (n_samples, timesteps, features)\n",
    "# New shape: (n_samples, timesteps * features)\n",
    "X_train_2d = X_SOH_train.reshape(X_SOH_train.shape[0], -1)\n",
    "X_test_2d = X_SOH_testval.reshape(X_SOH_testval.shape[0], -1)\n",
    "\n",
    "# Initialize AutoML\n",
    "automl = AutoML()\n",
    "\n",
    "# Settings\n",
    "automl_settings = {\n",
    "    \"time_budget\": 60,  # 60 seconds - increased from 10 for better results\n",
    "    \"metric\": \"r2\",\n",
    "    \"task\": \"regression\",\n",
    "    \"log_file_name\": \"battery_capacity.log\",\n",
    "}\n",
    "\n",
    "# Train\n",
    "automl.fit(X_train=X_train_2d, y_train=y_SOH_train, **automl_settings)\n",
    "\n",
    "# Predict and evaluate\n",
    "y_pred = automl.predict(X_test_2d)\n",
    "print(\"Predictions:\", y_pred)\n",
    "\n",
    "# Show best model\n",
    "print(\"\\nBest model:\", automl.model.estimator)\n",
    "\n",
    "# Feature importance (if available)\n",
    "if hasattr(automl.model.estimator, \"feature_importances_\"):\n",
    "    print(\"\\nFeature importances:\", automl.model.estimator.feature_importances_)"
   ]
  },
  {
   "cell_type": "code",
   "execution_count": 83,
   "metadata": {},
   "outputs": [
    {
     "name": "stdout",
     "output_type": "stream",
     "text": [
      "\n",
      "Best model: ExtraTreesRegressor(max_features=0.5744573026671392, max_leaf_nodes=11819,\n",
      "                    n_estimators=147, n_jobs=-1, random_state=12032022)\n",
      "\n",
      "Feature importances: [0.         0.01700185 0.00816615 0.00409679 0.01665659 0.00726261\n",
      " 0.03792354 0.         0.01698394 0.00113943 0.00356564 0.0302357\n",
      " 0.00778488 0.03978829 0.         0.01954599 0.00262329 0.00609884\n",
      " 0.07249802 0.00949151 0.03815271 0.         0.0195059  0.00162947\n",
      " 0.00387041 0.03756239 0.0074113  0.03752632 0.         0.020463\n",
      " 0.00139433 0.00385114 0.02356849 0.00915116 0.0363984  0.\n",
      " 0.02214605 0.00234322 0.00281411 0.01261914 0.00952224 0.03869473\n",
      " 0.         0.02602956 0.00184714 0.00309372 0.00853483 0.01159234\n",
      " 0.03412016 0.         0.03161182 0.00079693 0.00184982 0.00814573\n",
      " 0.01487151 0.03766382 0.         0.03099838 0.00262407 0.00148556\n",
      " 0.00660879 0.01653095 0.03406587 0.         0.03271944 0.00147203\n",
      " 0.00208389 0.00563891 0.01911289 0.03701426]\n"
     ]
    }
   ],
   "source": [
    "print(\"\\nBest model:\", automl.model.estimator)\n",
    "\n",
    "# Feature importance (if available)\n",
    "if hasattr(automl.model.estimator, \"feature_importances_\"):\n",
    "    print(\"\\nFeature importances:\", automl.model.estimator.feature_importances_)"
   ]
  },
  {
   "cell_type": "code",
   "execution_count": 14,
   "metadata": {},
   "outputs": [
    {
     "name": "stderr",
     "output_type": "stream",
     "text": [
      "/home/deniz/miniconda3/lib/python3.12/site-packages/keras/src/layers/rnn/rnn.py:204: UserWarning: Do not pass an `input_shape`/`input_dim` argument to a layer. When using Sequential models, prefer using an `Input(shape)` object as the first layer in the model instead.\n",
      "  super().__init__(**kwargs)\n"
     ]
    }
   ],
   "source": [
    "# architecture of the model\n",
    "time_steps = X_SOH_train.shape[1]\n",
    "features = X_SOH_train.shape[2]\n",
    "\n",
    "model = Sequential()\n",
    "\n",
    "model.add(LSTM(100, return_sequences=True, input_shape=(time_steps, features)))\n",
    "model.add(LSTM(100, return_sequences=True))\n",
    "model.add(LSTM(100, return_sequences=False))\n",
    "model.add(Dense(50, activation=\"relu\"))\n",
    "model.add(Dense(1, activation=\"linear\"))\n",
    "\n",
    "model.compile(optimizer=\"adam\", loss=\"mean_squared_error\")"
   ]
  },
  {
   "cell_type": "code",
   "execution_count": 17,
   "metadata": {},
   "outputs": [
    {
     "name": "stdout",
     "output_type": "stream",
     "text": [
      "Epoch 1/20\n",
      "\u001b[1m3281/3281\u001b[0m \u001b[32m━━━━━━━━━━━━━━━━━━━━\u001b[0m\u001b[37m\u001b[0m \u001b[1m49s\u001b[0m 14ms/step - loss: 0.0145 - val_loss: 0.0053\n",
      "Epoch 2/20\n",
      "\u001b[1m3281/3281\u001b[0m \u001b[32m━━━━━━━━━━━━━━━━━━━━\u001b[0m\u001b[37m\u001b[0m \u001b[1m43s\u001b[0m 13ms/step - loss: 0.0060 - val_loss: 0.0049\n",
      "Epoch 3/20\n",
      "\u001b[1m3281/3281\u001b[0m \u001b[32m━━━━━━━━━━━━━━━━━━━━\u001b[0m\u001b[37m\u001b[0m \u001b[1m43s\u001b[0m 13ms/step - loss: 0.0055 - val_loss: 0.0049\n",
      "Epoch 4/20\n",
      "\u001b[1m3281/3281\u001b[0m \u001b[32m━━━━━━━━━━━━━━━━━━━━\u001b[0m\u001b[37m\u001b[0m \u001b[1m43s\u001b[0m 13ms/step - loss: 0.0054 - val_loss: 0.0051\n",
      "Epoch 5/20\n",
      "\u001b[1m3281/3281\u001b[0m \u001b[32m━━━━━━━━━━━━━━━━━━━━\u001b[0m\u001b[37m\u001b[0m \u001b[1m44s\u001b[0m 13ms/step - loss: 0.0051 - val_loss: 0.0042\n",
      "Epoch 6/20\n",
      "\u001b[1m3281/3281\u001b[0m \u001b[32m━━━━━━━━━━━━━━━━━━━━\u001b[0m\u001b[37m\u001b[0m \u001b[1m43s\u001b[0m 13ms/step - loss: 0.0050 - val_loss: 0.0047\n",
      "Epoch 7/20\n",
      "\u001b[1m3281/3281\u001b[0m \u001b[32m━━━━━━━━━━━━━━━━━━━━\u001b[0m\u001b[37m\u001b[0m \u001b[1m44s\u001b[0m 13ms/step - loss: 0.0050 - val_loss: 0.0044\n",
      "Epoch 8/20\n",
      "\u001b[1m3281/3281\u001b[0m \u001b[32m━━━━━━━━━━━━━━━━━━━━\u001b[0m\u001b[37m\u001b[0m \u001b[1m45s\u001b[0m 14ms/step - loss: 0.0045 - val_loss: 0.0041\n",
      "Epoch 9/20\n",
      "\u001b[1m3281/3281\u001b[0m \u001b[32m━━━━━━━━━━━━━━━━━━━━\u001b[0m\u001b[37m\u001b[0m \u001b[1m44s\u001b[0m 13ms/step - loss: 0.0045 - val_loss: 0.0045\n",
      "Epoch 10/20\n",
      "\u001b[1m3281/3281\u001b[0m \u001b[32m━━━━━━━━━━━━━━━━━━━━\u001b[0m\u001b[37m\u001b[0m \u001b[1m44s\u001b[0m 14ms/step - loss: 0.0045 - val_loss: 0.0069\n",
      "Epoch 11/20\n",
      "\u001b[1m3281/3281\u001b[0m \u001b[32m━━━━━━━━━━━━━━━━━━━━\u001b[0m\u001b[37m\u001b[0m \u001b[1m44s\u001b[0m 13ms/step - loss: 0.0043 - val_loss: 0.0038\n",
      "Epoch 12/20\n",
      "\u001b[1m3281/3281\u001b[0m \u001b[32m━━━━━━━━━━━━━━━━━━━━\u001b[0m\u001b[37m\u001b[0m \u001b[1m44s\u001b[0m 13ms/step - loss: 0.0041 - val_loss: 0.0040\n",
      "Epoch 13/20\n",
      "\u001b[1m3281/3281\u001b[0m \u001b[32m━━━━━━━━━━━━━━━━━━━━\u001b[0m\u001b[37m\u001b[0m \u001b[1m45s\u001b[0m 14ms/step - loss: 0.0041 - val_loss: 0.0040\n",
      "Epoch 14/20\n",
      "\u001b[1m3281/3281\u001b[0m \u001b[32m━━━━━━━━━━━━━━━━━━━━\u001b[0m\u001b[37m\u001b[0m \u001b[1m46s\u001b[0m 14ms/step - loss: 0.0040 - val_loss: 0.0043\n",
      "Epoch 15/20\n",
      "\u001b[1m3281/3281\u001b[0m \u001b[32m━━━━━━━━━━━━━━━━━━━━\u001b[0m\u001b[37m\u001b[0m \u001b[1m49s\u001b[0m 15ms/step - loss: 0.0041 - val_loss: 0.0042\n",
      "Epoch 16/20\n",
      "\u001b[1m3281/3281\u001b[0m \u001b[32m━━━━━━━━━━━━━━━━━━━━\u001b[0m\u001b[37m\u001b[0m \u001b[1m50s\u001b[0m 15ms/step - loss: 0.0040 - val_loss: 0.0038\n",
      "Epoch 17/20\n",
      "\u001b[1m3281/3281\u001b[0m \u001b[32m━━━━━━━━━━━━━━━━━━━━\u001b[0m\u001b[37m\u001b[0m \u001b[1m47s\u001b[0m 14ms/step - loss: 0.0038 - val_loss: 0.0036\n",
      "Epoch 18/20\n",
      "\u001b[1m3281/3281\u001b[0m \u001b[32m━━━━━━━━━━━━━━━━━━━━\u001b[0m\u001b[37m\u001b[0m \u001b[1m46s\u001b[0m 14ms/step - loss: 0.0035 - val_loss: 0.0032\n",
      "Epoch 19/20\n",
      "\u001b[1m3281/3281\u001b[0m \u001b[32m━━━━━━━━━━━━━━━━━━━━\u001b[0m\u001b[37m\u001b[0m \u001b[1m50s\u001b[0m 15ms/step - loss: 0.0034 - val_loss: 0.0031\n",
      "Epoch 20/20\n",
      "\u001b[1m3281/3281\u001b[0m \u001b[32m━━━━━━━━━━━━━━━━━━━━\u001b[0m\u001b[37m\u001b[0m \u001b[1m49s\u001b[0m 15ms/step - loss: 0.0032 - val_loss: 0.0046\n"
     ]
    },
    {
     "name": "stderr",
     "output_type": "stream",
     "text": [
      "WARNING:absl:You are saving your model as an HDF5 file via `model.save()` or `keras.saving.save_model(model)`. This file format is considered legacy. We recommend using instead the native Keras format, e.g. `model.save('my_model.keras')` or `keras.saving.save_model(model, 'my_model.keras')`. \n"
     ]
    }
   ],
   "source": [
    "# training the model\n",
    "history = model.fit(\n",
    "    X_SOH_train,\n",
    "    y_SOH_train,\n",
    "    epochs=20,\n",
    "    validation_data=(X_SOH_validation, y_SOH_validation),\n",
    "    verbose=1,\n",
    ")\n",
    "model.save(\"SOH_LSTM.h5\")"
   ]
  },
  {
   "cell_type": "code",
   "execution_count": 18,
   "metadata": {},
   "outputs": [
    {
     "name": "stderr",
     "output_type": "stream",
     "text": [
      "WARNING:absl:Compiled the loaded model, but the compiled metrics have yet to be built. `model.compile_metrics` will be empty until you train or evaluate the model.\n"
     ]
    },
    {
     "data": {
      "text/html": [
       "<pre style=\"white-space:pre;overflow-x:auto;line-height:normal;font-family:Menlo,'DejaVu Sans Mono',consolas,'Courier New',monospace\"><span style=\"font-weight: bold\">Model: \"sequential\"</span>\n",
       "</pre>\n"
      ],
      "text/plain": [
       "\u001b[1mModel: \"sequential\"\u001b[0m\n"
      ]
     },
     "metadata": {},
     "output_type": "display_data"
    },
    {
     "data": {
      "text/html": [
       "<pre style=\"white-space:pre;overflow-x:auto;line-height:normal;font-family:Menlo,'DejaVu Sans Mono',consolas,'Courier New',monospace\">┏━━━━━━━━━━━━━━━━━━━━━━━━━━━━━━━━━┳━━━━━━━━━━━━━━━━━━━━━━━━┳━━━━━━━━━━━━━━━┓\n",
       "┃<span style=\"font-weight: bold\"> Layer (type)                    </span>┃<span style=\"font-weight: bold\"> Output Shape           </span>┃<span style=\"font-weight: bold\">       Param # </span>┃\n",
       "┡━━━━━━━━━━━━━━━━━━━━━━━━━━━━━━━━━╇━━━━━━━━━━━━━━━━━━━━━━━━╇━━━━━━━━━━━━━━━┩\n",
       "│ lstm (<span style=\"color: #0087ff; text-decoration-color: #0087ff\">LSTM</span>)                     │ (<span style=\"color: #00d7ff; text-decoration-color: #00d7ff\">None</span>, <span style=\"color: #00af00; text-decoration-color: #00af00\">10</span>, <span style=\"color: #00af00; text-decoration-color: #00af00\">100</span>)        │        <span style=\"color: #00af00; text-decoration-color: #00af00\">43,200</span> │\n",
       "├─────────────────────────────────┼────────────────────────┼───────────────┤\n",
       "│ lstm_1 (<span style=\"color: #0087ff; text-decoration-color: #0087ff\">LSTM</span>)                   │ (<span style=\"color: #00d7ff; text-decoration-color: #00d7ff\">None</span>, <span style=\"color: #00af00; text-decoration-color: #00af00\">10</span>, <span style=\"color: #00af00; text-decoration-color: #00af00\">100</span>)        │        <span style=\"color: #00af00; text-decoration-color: #00af00\">80,400</span> │\n",
       "├─────────────────────────────────┼────────────────────────┼───────────────┤\n",
       "│ lstm_2 (<span style=\"color: #0087ff; text-decoration-color: #0087ff\">LSTM</span>)                   │ (<span style=\"color: #00d7ff; text-decoration-color: #00d7ff\">None</span>, <span style=\"color: #00af00; text-decoration-color: #00af00\">100</span>)            │        <span style=\"color: #00af00; text-decoration-color: #00af00\">80,400</span> │\n",
       "├─────────────────────────────────┼────────────────────────┼───────────────┤\n",
       "│ dense (<span style=\"color: #0087ff; text-decoration-color: #0087ff\">Dense</span>)                   │ (<span style=\"color: #00d7ff; text-decoration-color: #00d7ff\">None</span>, <span style=\"color: #00af00; text-decoration-color: #00af00\">50</span>)             │         <span style=\"color: #00af00; text-decoration-color: #00af00\">5,050</span> │\n",
       "├─────────────────────────────────┼────────────────────────┼───────────────┤\n",
       "│ dense_1 (<span style=\"color: #0087ff; text-decoration-color: #0087ff\">Dense</span>)                 │ (<span style=\"color: #00d7ff; text-decoration-color: #00d7ff\">None</span>, <span style=\"color: #00af00; text-decoration-color: #00af00\">1</span>)              │            <span style=\"color: #00af00; text-decoration-color: #00af00\">51</span> │\n",
       "└─────────────────────────────────┴────────────────────────┴───────────────┘\n",
       "</pre>\n"
      ],
      "text/plain": [
       "┏━━━━━━━━━━━━━━━━━━━━━━━━━━━━━━━━━┳━━━━━━━━━━━━━━━━━━━━━━━━┳━━━━━━━━━━━━━━━┓\n",
       "┃\u001b[1m \u001b[0m\u001b[1mLayer (type)                   \u001b[0m\u001b[1m \u001b[0m┃\u001b[1m \u001b[0m\u001b[1mOutput Shape          \u001b[0m\u001b[1m \u001b[0m┃\u001b[1m \u001b[0m\u001b[1m      Param #\u001b[0m\u001b[1m \u001b[0m┃\n",
       "┡━━━━━━━━━━━━━━━━━━━━━━━━━━━━━━━━━╇━━━━━━━━━━━━━━━━━━━━━━━━╇━━━━━━━━━━━━━━━┩\n",
       "│ lstm (\u001b[38;5;33mLSTM\u001b[0m)                     │ (\u001b[38;5;45mNone\u001b[0m, \u001b[38;5;34m10\u001b[0m, \u001b[38;5;34m100\u001b[0m)        │        \u001b[38;5;34m43,200\u001b[0m │\n",
       "├─────────────────────────────────┼────────────────────────┼───────────────┤\n",
       "│ lstm_1 (\u001b[38;5;33mLSTM\u001b[0m)                   │ (\u001b[38;5;45mNone\u001b[0m, \u001b[38;5;34m10\u001b[0m, \u001b[38;5;34m100\u001b[0m)        │        \u001b[38;5;34m80,400\u001b[0m │\n",
       "├─────────────────────────────────┼────────────────────────┼───────────────┤\n",
       "│ lstm_2 (\u001b[38;5;33mLSTM\u001b[0m)                   │ (\u001b[38;5;45mNone\u001b[0m, \u001b[38;5;34m100\u001b[0m)            │        \u001b[38;5;34m80,400\u001b[0m │\n",
       "├─────────────────────────────────┼────────────────────────┼───────────────┤\n",
       "│ dense (\u001b[38;5;33mDense\u001b[0m)                   │ (\u001b[38;5;45mNone\u001b[0m, \u001b[38;5;34m50\u001b[0m)             │         \u001b[38;5;34m5,050\u001b[0m │\n",
       "├─────────────────────────────────┼────────────────────────┼───────────────┤\n",
       "│ dense_1 (\u001b[38;5;33mDense\u001b[0m)                 │ (\u001b[38;5;45mNone\u001b[0m, \u001b[38;5;34m1\u001b[0m)              │            \u001b[38;5;34m51\u001b[0m │\n",
       "└─────────────────────────────────┴────────────────────────┴───────────────┘\n"
      ]
     },
     "metadata": {},
     "output_type": "display_data"
    },
    {
     "data": {
      "text/html": [
       "<pre style=\"white-space:pre;overflow-x:auto;line-height:normal;font-family:Menlo,'DejaVu Sans Mono',consolas,'Courier New',monospace\"><span style=\"font-weight: bold\"> Total params: </span><span style=\"color: #00af00; text-decoration-color: #00af00\">209,103</span> (816.81 KB)\n",
       "</pre>\n"
      ],
      "text/plain": [
       "\u001b[1m Total params: \u001b[0m\u001b[38;5;34m209,103\u001b[0m (816.81 KB)\n"
      ]
     },
     "metadata": {},
     "output_type": "display_data"
    },
    {
     "data": {
      "text/html": [
       "<pre style=\"white-space:pre;overflow-x:auto;line-height:normal;font-family:Menlo,'DejaVu Sans Mono',consolas,'Courier New',monospace\"><span style=\"font-weight: bold\"> Trainable params: </span><span style=\"color: #00af00; text-decoration-color: #00af00\">209,101</span> (816.80 KB)\n",
       "</pre>\n"
      ],
      "text/plain": [
       "\u001b[1m Trainable params: \u001b[0m\u001b[38;5;34m209,101\u001b[0m (816.80 KB)\n"
      ]
     },
     "metadata": {},
     "output_type": "display_data"
    },
    {
     "data": {
      "text/html": [
       "<pre style=\"white-space:pre;overflow-x:auto;line-height:normal;font-family:Menlo,'DejaVu Sans Mono',consolas,'Courier New',monospace\"><span style=\"font-weight: bold\"> Non-trainable params: </span><span style=\"color: #00af00; text-decoration-color: #00af00\">0</span> (0.00 B)\n",
       "</pre>\n"
      ],
      "text/plain": [
       "\u001b[1m Non-trainable params: \u001b[0m\u001b[38;5;34m0\u001b[0m (0.00 B)\n"
      ]
     },
     "metadata": {},
     "output_type": "display_data"
    },
    {
     "data": {
      "text/html": [
       "<pre style=\"white-space:pre;overflow-x:auto;line-height:normal;font-family:Menlo,'DejaVu Sans Mono',consolas,'Courier New',monospace\"><span style=\"font-weight: bold\"> Optimizer params: </span><span style=\"color: #00af00; text-decoration-color: #00af00\">2</span> (12.00 B)\n",
       "</pre>\n"
      ],
      "text/plain": [
       "\u001b[1m Optimizer params: \u001b[0m\u001b[38;5;34m2\u001b[0m (12.00 B)\n"
      ]
     },
     "metadata": {},
     "output_type": "display_data"
    }
   ],
   "source": [
    "# loading the model\n",
    "SOH_model = load_model(\"SOH_LSTM.h5\")\n",
    "SOH_model.summary()"
   ]
  },
  {
   "cell_type": "code",
   "execution_count": 19,
   "metadata": {},
   "outputs": [
    {
     "name": "stdout",
     "output_type": "stream",
     "text": [
      "\u001b[1m411/411\u001b[0m \u001b[32m━━━━━━━━━━━━━━━━━━━━\u001b[0m\u001b[37m\u001b[0m \u001b[1m4s\u001b[0m 9ms/step\n",
      "Mean Squared Error: 0.004424698645443541\n",
      "Mean Absolute Error: 0.05341213918387097\n",
      "Root Mean Squared Error: 0.06651840832013\n"
     ]
    },
    {
     "data": {
      "image/png": "[encoded data removed]",
      "text/plain": [
       "<Figure size 1000x500 with 1 Axes>"
      ]
     },
     "metadata": {},
     "output_type": "display_data"
    }
   ],
   "source": [
    "# testing the accuracy of model on thw test dataset\n",
    "%matplotlib inline\n",
    "predicted_y = SOH_model.predict(X_SOH_test)\n",
    "true_y = y_SOH_test\n",
    "\n",
    "mse = mean_squared_error(true_y, predicted_y)\n",
    "mae = mean_absolute_error(true_y, predicted_y)\n",
    "rmse = np.sqrt(mse)\n",
    "\n",
    "print(\"Mean Squared Error:\", mse)\n",
    "print(\"Mean Absolute Error:\", mae)\n",
    "print(\"Root Mean Squared Error:\", rmse)\n",
    "\n",
    "plt.figure(figsize=(10, 5))\n",
    "\n",
    "plt.plot(true_y, label=\"True Values\")\n",
    "\n",
    "plt.plot(predicted_y, label=\"Predicted Values\")\n",
    "\n",
    "plt.title(\"Comparison of True and Predicted Values Testing set\")\n",
    "plt.xlabel(\"Index\")\n",
    "plt.ylabel(\"SOH\")\n",
    "plt.legend()\n",
    "plt.show()"
   ]
  },
  {
   "cell_type": "code",
   "execution_count": 20,
   "metadata": {},
   "outputs": [
    {
     "name": "stdout",
     "output_type": "stream",
     "text": [
      "\u001b[1m3281/3281\u001b[0m \u001b[32m━━━━━━━━━━━━━━━━━━━━\u001b[0m\u001b[37m\u001b[0m \u001b[1m28s\u001b[0m 9ms/step\n",
      "Mean Squared Error: 0.004526874840515983\n",
      "Mean Absolute Error: 0.054346657136664145\n",
      "Root Mean Squared Error: 0.0672820543719942\n"
     ]
    }
   ],
   "source": [
    "# testing the accuracy of model on train dataset\n",
    "predicted_y = SOH_model.predict(X_SOH_train)\n",
    "true_y = y_SOH_train\n",
    "\n",
    "mse = mean_squared_error(true_y, predicted_y)\n",
    "mae = mean_absolute_error(true_y, predicted_y)\n",
    "rmse = np.sqrt(mse)\n",
    "\n",
    "print(\"Mean Squared Error:\", mse)\n",
    "print(\"Mean Absolute Error:\", mae)\n",
    "print(\"Root Mean Squared Error:\", rmse)\n",
    "\n"
   ]
  },
  {
   "cell_type": "code",
   "execution_count": 89,
   "metadata": {},
   "outputs": [
    {
     "data": {
      "image/png": "[encoded data removed]",
      "text/plain": [
       "<Figure size 1000x500 with 1 Axes>"
      ]
     },
     "metadata": {},
     "output_type": "display_data"
    }
   ],
   "source": [
    "%matplotlib inline\n",
    "plt.figure(figsize=(10, 5))\n",
    "\n",
    "plt.plot(true_y, label=\"True Values\")\n",
    "\n",
    "plt.plot(predicted_y, label=\"Predicted Values\")\n",
    "\n",
    "plt.title(\"Comparison of True and Predicted Values Training set\")\n",
    "plt.xlabel(\"Index\")\n",
    "plt.ylabel(\"SOH\")\n",
    "plt.legend()\n",
    "plt.show()"
   ]
  },
  {
   "cell_type": "code",
   "execution_count": 27,
   "metadata": {},
   "outputs": [
    {
     "name": "stderr",
     "output_type": "stream",
     "text": [
      "/home/deniz/miniconda3/lib/python3.12/site-packages/keras/src/saving/saving_lib.py:713: UserWarning: Skipping variable loading for optimizer 'adam', because it has 28 variables whereas the saved optimizer has 2 variables. \n",
      "  saveable.load_own_variables(weights_store.get(inner_path))\n",
      "/home/deniz/miniconda3/lib/python3.12/site-packages/keras/src/saving/saving_lib.py:713: UserWarning: Skipping variable loading for optimizer 'adam', because it has 28 variables whereas the saved optimizer has 2 variables. \n",
      "  saveable.load_own_variables(weights_store.get(inner_path))\n",
      "/home/deniz/miniconda3/lib/python3.12/site-packages/keras/src/saving/saving_lib.py:713: UserWarning: Skipping variable loading for optimizer 'adam', because it has 28 variables whereas the saved optimizer has 2 variables. \n",
      "  saveable.load_own_variables(weights_store.get(inner_path))\n",
      "/home/deniz/miniconda3/lib/python3.12/site-packages/keras/src/saving/saving_lib.py:713: UserWarning: Skipping variable loading for optimizer 'adam', because it has 28 variables whereas the saved optimizer has 2 variables. \n",
      "  saveable.load_own_variables(weights_store.get(inner_path))\n"
     ]
    },
    {
     "name": "stdout",
     "output_type": "stream",
     "text": [
      "MSE skorları: [0.00306407 0.00291902 0.00435656 0.00264601]\n",
      "Ortalama MSE: 0.003246412328269472\n"
     ]
    }
   ],
   "source": [
    "from scikeras.wrappers import KerasRegressor\n",
    "from sklearn.model_selection import cross_val_score\n",
    "\n",
    "\n",
    "# Scikit-learn uyumlu hale getir\n",
    "regressor = KerasRegressor(model=SOH_model, epochs=20, verbose=0)\n",
    "\n",
    "# Cross-validation uygula\n",
    "scores = cross_val_score(\n",
    "    regressor, X_SOH_test, y_SOH_test, cv=4, scoring=\"neg_mean_squared_error\"\n",
    ")\n",
    "\n",
    "\n",
    "print(\"MSE skorları:\", -scores)\n",
    "print(\"Ortalama MSE:\", -scores.mean())"
   ]
  },
  {
   "cell_type": "markdown",
   "metadata": {},
   "source": [
    "### Sonuç\n",
    "Hem literatür taramalarından hem rmse değerlerini incelediğimizda lstm tabanlı sinir ağı modelimizin daha iyi sonuç verdiği için sinir ağını kullanmayı seçiyorum."
   ]
  },
  {
   "cell_type": "markdown",
   "metadata": {},
   "source": [
    "\n",
    "# SOC İÇİN MODEL OLUŞTURMA"
   ]
  },
  {
   "cell_type": "code",
   "execution_count": 21,
   "metadata": {},
   "outputs": [],
   "source": [
    "# data split into train, test, validation\n",
    "from sklearn.model_selection import train_test_split\n",
    "\n",
    "# spliting data into train, test, validation\n",
    "X_SOC_train, X_SOC_testval, y_SOC_train, y_SOC_testval = train_test_split(\n",
    "    X, y_SOC, test_size=0.2, random_state=42\n",
    ")\n",
    "\n",
    "X_SOC_test, X_SOC_validation, y_SOC_test, y_SOC_validation = train_test_split(\n",
    "    X_SOC_testval, y_SOC_testval, test_size=0.5, random_state=42\n",
    ")"
   ]
  },
  {
   "cell_type": "code",
   "execution_count": 91,
   "metadata": {},
   "outputs": [
    {
     "name": "stdout",
     "output_type": "stream",
     "text": [
      "[flaml.automl.logger: 04-11 02:39:55] {1728} INFO - task = regression\n",
      "[flaml.automl.logger: 04-11 02:39:55] {1739} INFO - Evaluation method: holdout\n",
      "[flaml.automl.logger: 04-11 02:39:55] {1838} INFO - Minimizing error metric: rmse\n",
      "[flaml.automl.logger: 04-11 02:39:55] {1955} INFO - List of ML learners in AutoML Run: ['lgbm', 'rf', 'xgboost', 'extra_tree', 'xgb_limitdepth', 'sgd']\n",
      "[flaml.automl.logger: 04-11 02:39:55] {2258} INFO - iteration 0, current learner lgbm\n",
      "[flaml.automl.logger: 04-11 02:39:55] {2393} INFO - Estimated sufficient time budget=2322s. Estimated necessary time budget=17s.\n",
      "[flaml.automl.logger: 04-11 02:39:55] {2442} INFO -  at 0.1s,\testimator lgbm's best error=0.0385,\tbest estimator lgbm's best error=0.0385\n",
      "[flaml.automl.logger: 04-11 02:39:55] {2258} INFO - iteration 1, current learner lgbm\n",
      "[flaml.automl.logger: 04-11 02:39:56] {2442} INFO -  at 0.8s,\testimator lgbm's best error=0.0385,\tbest estimator lgbm's best error=0.0385\n",
      "[flaml.automl.logger: 04-11 02:39:56] {2258} INFO - iteration 2, current learner sgd\n"
     ]
    },
    {
     "name": "stderr",
     "output_type": "stream",
     "text": [
      "INFO:flaml.tune.searcher.blendsearch:No low-cost partial config given to the search algorithm. For cost-frugal search, consider providing low-cost values for cost-related hps via 'low_cost_partial_config'. More info can be found at https://microsoft.github.io/FLAML/docs/FAQ#about-low_cost_partial_config-in-tune\n"
     ]
    },
    {
     "name": "stdout",
     "output_type": "stream",
     "text": [
      "[flaml.automl.logger: 04-11 02:39:56] {2442} INFO -  at 0.8s,\testimator sgd's best error=0.0578,\tbest estimator lgbm's best error=0.0385\n",
      "[flaml.automl.logger: 04-11 02:39:56] {2258} INFO - iteration 3, current learner sgd\n",
      "[flaml.automl.logger: 04-11 02:39:56] {2442} INFO -  at 0.9s,\testimator sgd's best error=0.0495,\tbest estimator lgbm's best error=0.0385\n",
      "[flaml.automl.logger: 04-11 02:39:56] {2258} INFO - iteration 4, current learner xgboost\n",
      "[flaml.automl.logger: 04-11 02:39:56] {2442} INFO -  at 1.1s,\testimator xgboost's best error=0.0384,\tbest estimator xgboost's best error=0.0384\n",
      "[flaml.automl.logger: 04-11 02:39:56] {2258} INFO - iteration 5, current learner extra_tree\n",
      "[flaml.automl.logger: 04-11 02:39:56] {2442} INFO -  at 1.2s,\testimator extra_tree's best error=0.0166,\tbest estimator extra_tree's best error=0.0166\n",
      "[flaml.automl.logger: 04-11 02:39:56] {2258} INFO - iteration 6, current learner rf\n",
      "[flaml.automl.logger: 04-11 02:39:56] {2442} INFO -  at 1.4s,\testimator rf's best error=0.0191,\tbest estimator extra_tree's best error=0.0166\n",
      "[flaml.automl.logger: 04-11 02:39:56] {2258} INFO - iteration 7, current learner lgbm\n",
      "[flaml.automl.logger: 04-11 02:39:57] {2442} INFO -  at 1.6s,\testimator lgbm's best error=0.0384,\tbest estimator extra_tree's best error=0.0166\n",
      "[flaml.automl.logger: 04-11 02:39:57] {2258} INFO - iteration 8, current learner xgboost\n",
      "[flaml.automl.logger: 04-11 02:39:57] {2442} INFO -  at 1.8s,\testimator xgboost's best error=0.0384,\tbest estimator extra_tree's best error=0.0166\n",
      "[flaml.automl.logger: 04-11 02:39:57] {2258} INFO - iteration 9, current learner rf\n",
      "[flaml.automl.logger: 04-11 02:39:57] {2442} INFO -  at 2.2s,\testimator rf's best error=0.0044,\tbest estimator rf's best error=0.0044\n",
      "[flaml.automl.logger: 04-11 02:39:57] {2258} INFO - iteration 10, current learner rf\n",
      "[flaml.automl.logger: 04-11 02:39:58] {2442} INFO -  at 2.4s,\testimator rf's best error=0.0044,\tbest estimator rf's best error=0.0044\n",
      "[flaml.automl.logger: 04-11 02:39:58] {2258} INFO - iteration 11, current learner rf\n",
      "[flaml.automl.logger: 04-11 02:39:58] {2442} INFO -  at 3.1s,\testimator rf's best error=0.0026,\tbest estimator rf's best error=0.0026\n",
      "[flaml.automl.logger: 04-11 02:39:58] {2258} INFO - iteration 12, current learner extra_tree\n",
      "[flaml.automl.logger: 04-11 02:39:58] {2442} INFO -  at 3.1s,\testimator extra_tree's best error=0.0046,\tbest estimator rf's best error=0.0026\n",
      "[flaml.automl.logger: 04-11 02:39:58] {2258} INFO - iteration 13, current learner extra_tree\n",
      "[flaml.automl.logger: 04-11 02:39:58] {2442} INFO -  at 3.2s,\testimator extra_tree's best error=0.0046,\tbest estimator rf's best error=0.0026\n",
      "[flaml.automl.logger: 04-11 02:39:58] {2258} INFO - iteration 14, current learner extra_tree\n",
      "[flaml.automl.logger: 04-11 02:39:58] {2442} INFO -  at 3.4s,\testimator extra_tree's best error=0.0028,\tbest estimator rf's best error=0.0026\n",
      "[flaml.automl.logger: 04-11 02:39:58] {2258} INFO - iteration 15, current learner extra_tree\n",
      "[flaml.automl.logger: 04-11 02:39:59] {2442} INFO -  at 3.5s,\testimator extra_tree's best error=0.0018,\tbest estimator extra_tree's best error=0.0018\n",
      "[flaml.automl.logger: 04-11 02:39:59] {2258} INFO - iteration 16, current learner extra_tree\n",
      "[flaml.automl.logger: 04-11 02:39:59] {2442} INFO -  at 3.7s,\testimator extra_tree's best error=0.0018,\tbest estimator extra_tree's best error=0.0018\n",
      "[flaml.automl.logger: 04-11 02:39:59] {2258} INFO - iteration 17, current learner xgboost\n",
      "[flaml.automl.logger: 04-11 02:40:00] {2442} INFO -  at 4.5s,\testimator xgboost's best error=0.0212,\tbest estimator extra_tree's best error=0.0018\n",
      "[flaml.automl.logger: 04-11 02:40:00] {2258} INFO - iteration 18, current learner extra_tree\n",
      "[flaml.automl.logger: 04-11 02:40:00] {2442} INFO -  at 4.7s,\testimator extra_tree's best error=0.0013,\tbest estimator extra_tree's best error=0.0013\n",
      "[flaml.automl.logger: 04-11 02:40:00] {2258} INFO - iteration 19, current learner rf\n",
      "[flaml.automl.logger: 04-11 02:40:00] {2442} INFO -  at 5.4s,\testimator rf's best error=0.0016,\tbest estimator extra_tree's best error=0.0013\n",
      "[flaml.automl.logger: 04-11 02:40:00] {2258} INFO - iteration 20, current learner extra_tree\n",
      "[flaml.automl.logger: 04-11 02:40:01] {2442} INFO -  at 5.6s,\testimator extra_tree's best error=0.0013,\tbest estimator extra_tree's best error=0.0013\n",
      "[flaml.automl.logger: 04-11 02:40:01] {2258} INFO - iteration 21, current learner extra_tree\n",
      "[flaml.automl.logger: 04-11 02:40:01] {2442} INFO -  at 5.8s,\testimator extra_tree's best error=0.0011,\tbest estimator extra_tree's best error=0.0011\n",
      "[flaml.automl.logger: 04-11 02:40:01] {2258} INFO - iteration 22, current learner extra_tree\n",
      "[flaml.automl.logger: 04-11 02:40:01] {2442} INFO -  at 5.9s,\testimator extra_tree's best error=0.0011,\tbest estimator extra_tree's best error=0.0011\n",
      "[flaml.automl.logger: 04-11 02:40:01] {2258} INFO - iteration 23, current learner rf\n",
      "[flaml.automl.logger: 04-11 02:40:02] {2442} INFO -  at 6.6s,\testimator rf's best error=0.0016,\tbest estimator extra_tree's best error=0.0011\n",
      "[flaml.automl.logger: 04-11 02:40:02] {2258} INFO - iteration 24, current learner xgboost\n",
      "[flaml.automl.logger: 04-11 02:40:02] {2442} INFO -  at 6.7s,\testimator xgboost's best error=0.0098,\tbest estimator extra_tree's best error=0.0011\n",
      "[flaml.automl.logger: 04-11 02:40:02] {2258} INFO - iteration 25, current learner extra_tree\n",
      "[flaml.automl.logger: 04-11 02:40:02] {2442} INFO -  at 6.9s,\testimator extra_tree's best error=0.0011,\tbest estimator extra_tree's best error=0.0011\n",
      "[flaml.automl.logger: 04-11 02:40:02] {2258} INFO - iteration 26, current learner sgd\n",
      "[flaml.automl.logger: 04-11 02:40:02] {2442} INFO -  at 6.9s,\testimator sgd's best error=0.0438,\tbest estimator extra_tree's best error=0.0011\n",
      "[flaml.automl.logger: 04-11 02:40:02] {2258} INFO - iteration 27, current learner xgboost\n",
      "[flaml.automl.logger: 04-11 02:40:02] {2442} INFO -  at 7.2s,\testimator xgboost's best error=0.0098,\tbest estimator extra_tree's best error=0.0011\n",
      "[flaml.automl.logger: 04-11 02:40:02] {2258} INFO - iteration 28, current learner sgd\n",
      "[flaml.automl.logger: 04-11 02:40:05] {2442} INFO -  at 9.5s,\testimator sgd's best error=0.0438,\tbest estimator extra_tree's best error=0.0011\n",
      "[flaml.automl.logger: 04-11 02:40:05] {2258} INFO - iteration 29, current learner extra_tree\n",
      "[flaml.automl.logger: 04-11 02:40:05] {2442} INFO -  at 9.7s,\testimator extra_tree's best error=0.0011,\tbest estimator extra_tree's best error=0.0011\n",
      "[flaml.automl.logger: 04-11 02:40:05] {2258} INFO - iteration 30, current learner extra_tree\n",
      "[flaml.automl.logger: 04-11 02:40:05] {2442} INFO -  at 9.9s,\testimator extra_tree's best error=0.0011,\tbest estimator extra_tree's best error=0.0011\n",
      "[flaml.automl.logger: 04-11 02:40:05] {2258} INFO - iteration 31, current learner rf\n",
      "[flaml.automl.logger: 04-11 02:40:06] {2442} INFO -  at 10.7s,\testimator rf's best error=0.0015,\tbest estimator extra_tree's best error=0.0011\n",
      "[flaml.automl.logger: 04-11 02:40:06] {2258} INFO - iteration 32, current learner xgboost\n",
      "[flaml.automl.logger: 04-11 02:40:06] {2442} INFO -  at 10.7s,\testimator xgboost's best error=0.0096,\tbest estimator extra_tree's best error=0.0011\n",
      "[flaml.automl.logger: 04-11 02:40:06] {2258} INFO - iteration 33, current learner extra_tree\n",
      "[flaml.automl.logger: 04-11 02:40:06] {2442} INFO -  at 11.0s,\testimator extra_tree's best error=0.0010,\tbest estimator extra_tree's best error=0.0010\n",
      "[flaml.automl.logger: 04-11 02:40:06] {2258} INFO - iteration 34, current learner extra_tree\n",
      "[flaml.automl.logger: 04-11 02:40:06] {2442} INFO -  at 11.2s,\testimator extra_tree's best error=0.0010,\tbest estimator extra_tree's best error=0.0010\n",
      "[flaml.automl.logger: 04-11 02:40:06] {2258} INFO - iteration 35, current learner xgboost\n",
      "[flaml.automl.logger: 04-11 02:40:06] {2442} INFO -  at 11.3s,\testimator xgboost's best error=0.0055,\tbest estimator extra_tree's best error=0.0010\n",
      "[flaml.automl.logger: 04-11 02:40:06] {2258} INFO - iteration 36, current learner xgboost\n",
      "[flaml.automl.logger: 04-11 02:40:06] {2442} INFO -  at 11.4s,\testimator xgboost's best error=0.0043,\tbest estimator extra_tree's best error=0.0010\n",
      "[flaml.automl.logger: 04-11 02:40:06] {2258} INFO - iteration 37, current learner extra_tree\n",
      "[flaml.automl.logger: 04-11 02:40:07] {2442} INFO -  at 11.8s,\testimator extra_tree's best error=0.0010,\tbest estimator extra_tree's best error=0.0010\n",
      "[flaml.automl.logger: 04-11 02:40:07] {2258} INFO - iteration 38, current learner xgboost\n",
      "[flaml.automl.logger: 04-11 02:40:07] {2442} INFO -  at 11.9s,\testimator xgboost's best error=0.0038,\tbest estimator extra_tree's best error=0.0010\n",
      "[flaml.automl.logger: 04-11 02:40:07] {2258} INFO - iteration 39, current learner extra_tree\n",
      "[flaml.automl.logger: 04-11 02:40:07] {2442} INFO -  at 12.2s,\testimator extra_tree's best error=0.0010,\tbest estimator extra_tree's best error=0.0010\n",
      "[flaml.automl.logger: 04-11 02:40:07] {2258} INFO - iteration 40, current learner xgboost\n",
      "[flaml.automl.logger: 04-11 02:40:07] {2442} INFO -  at 12.2s,\testimator xgboost's best error=0.0022,\tbest estimator extra_tree's best error=0.0010\n",
      "[flaml.automl.logger: 04-11 02:40:07] {2258} INFO - iteration 41, current learner xgboost\n",
      "[flaml.automl.logger: 04-11 02:40:07] {2442} INFO -  at 12.3s,\testimator xgboost's best error=0.0022,\tbest estimator extra_tree's best error=0.0010\n",
      "[flaml.automl.logger: 04-11 02:40:07] {2258} INFO - iteration 42, current learner xgboost\n",
      "[flaml.automl.logger: 04-11 02:40:07] {2442} INFO -  at 12.3s,\testimator xgboost's best error=0.0022,\tbest estimator extra_tree's best error=0.0010\n",
      "[flaml.automl.logger: 04-11 02:40:07] {2258} INFO - iteration 43, current learner xgboost\n",
      "[flaml.automl.logger: 04-11 02:40:07] {2442} INFO -  at 12.4s,\testimator xgboost's best error=0.0016,\tbest estimator extra_tree's best error=0.0010\n",
      "[flaml.automl.logger: 04-11 02:40:07] {2258} INFO - iteration 44, current learner extra_tree\n",
      "[flaml.automl.logger: 04-11 02:40:08] {2442} INFO -  at 12.9s,\testimator extra_tree's best error=0.0009,\tbest estimator extra_tree's best error=0.0009\n",
      "[flaml.automl.logger: 04-11 02:40:08] {2258} INFO - iteration 45, current learner extra_tree\n",
      "[flaml.automl.logger: 04-11 02:40:09] {2442} INFO -  at 13.8s,\testimator extra_tree's best error=0.0009,\tbest estimator extra_tree's best error=0.0009\n",
      "[flaml.automl.logger: 04-11 02:40:09] {2258} INFO - iteration 46, current learner extra_tree\n",
      "[flaml.automl.logger: 04-11 02:40:09] {2442} INFO -  at 14.1s,\testimator extra_tree's best error=0.0009,\tbest estimator extra_tree's best error=0.0009\n",
      "[flaml.automl.logger: 04-11 02:40:09] {2258} INFO - iteration 47, current learner xgboost\n",
      "[flaml.automl.logger: 04-11 02:40:09] {2442} INFO -  at 14.2s,\testimator xgboost's best error=0.0016,\tbest estimator extra_tree's best error=0.0009\n",
      "[flaml.automl.logger: 04-11 02:40:09] {2258} INFO - iteration 48, current learner extra_tree\n",
      "[flaml.automl.logger: 04-11 02:40:10] {2442} INFO -  at 14.5s,\testimator extra_tree's best error=0.0009,\tbest estimator extra_tree's best error=0.0009\n",
      "[flaml.automl.logger: 04-11 02:40:10] {2258} INFO - iteration 49, current learner xgboost\n",
      "[flaml.automl.logger: 04-11 02:40:10] {2442} INFO -  at 15.0s,\testimator xgboost's best error=0.0016,\tbest estimator extra_tree's best error=0.0009\n",
      "[flaml.automl.logger: 04-11 02:40:10] {2258} INFO - iteration 50, current learner extra_tree\n",
      "[flaml.automl.logger: 04-11 02:40:10] {2442} INFO -  at 15.3s,\testimator extra_tree's best error=0.0009,\tbest estimator extra_tree's best error=0.0009\n",
      "[flaml.automl.logger: 04-11 02:40:10] {2258} INFO - iteration 51, current learner extra_tree\n",
      "[flaml.automl.logger: 04-11 02:40:11] {2442} INFO -  at 15.9s,\testimator extra_tree's best error=0.0009,\tbest estimator extra_tree's best error=0.0009\n",
      "[flaml.automl.logger: 04-11 02:40:11] {2258} INFO - iteration 52, current learner xgboost\n",
      "[flaml.automl.logger: 04-11 02:40:12] {2442} INFO -  at 17.2s,\testimator xgboost's best error=0.0014,\tbest estimator extra_tree's best error=0.0009\n",
      "[flaml.automl.logger: 04-11 02:40:12] {2258} INFO - iteration 53, current learner extra_tree\n",
      "[flaml.automl.logger: 04-11 02:40:14] {2442} INFO -  at 18.6s,\testimator extra_tree's best error=0.0009,\tbest estimator extra_tree's best error=0.0009\n",
      "[flaml.automl.logger: 04-11 02:40:14] {2258} INFO - iteration 54, current learner xgb_limitdepth\n",
      "[flaml.automl.logger: 04-11 02:40:14] {2442} INFO -  at 18.7s,\testimator xgb_limitdepth's best error=0.0024,\tbest estimator extra_tree's best error=0.0009\n",
      "[flaml.automl.logger: 04-11 02:40:14] {2258} INFO - iteration 55, current learner xgb_limitdepth\n",
      "[flaml.automl.logger: 04-11 02:40:14] {2442} INFO -  at 18.8s,\testimator xgb_limitdepth's best error=0.0024,\tbest estimator extra_tree's best error=0.0009\n",
      "[flaml.automl.logger: 04-11 02:40:14] {2258} INFO - iteration 56, current learner xgboost\n",
      "[flaml.automl.logger: 04-11 02:40:16] {2442} INFO -  at 20.5s,\testimator xgboost's best error=0.0014,\tbest estimator extra_tree's best error=0.0009\n",
      "[flaml.automl.logger: 04-11 02:40:16] {2258} INFO - iteration 57, current learner xgb_limitdepth\n",
      "[flaml.automl.logger: 04-11 02:40:16] {2442} INFO -  at 20.6s,\testimator xgb_limitdepth's best error=0.0021,\tbest estimator extra_tree's best error=0.0009\n",
      "[flaml.automl.logger: 04-11 02:40:16] {2258} INFO - iteration 58, current learner extra_tree\n",
      "[flaml.automl.logger: 04-11 02:40:16] {2442} INFO -  at 20.9s,\testimator extra_tree's best error=0.0009,\tbest estimator extra_tree's best error=0.0009\n",
      "[flaml.automl.logger: 04-11 02:40:16] {2258} INFO - iteration 59, current learner extra_tree\n",
      "[flaml.automl.logger: 04-11 02:40:17] {2442} INFO -  at 21.6s,\testimator extra_tree's best error=0.0009,\tbest estimator extra_tree's best error=0.0009\n",
      "[flaml.automl.logger: 04-11 02:40:17] {2258} INFO - iteration 60, current learner xgb_limitdepth\n",
      "[flaml.automl.logger: 04-11 02:40:17] {2442} INFO -  at 21.7s,\testimator xgb_limitdepth's best error=0.0021,\tbest estimator extra_tree's best error=0.0009\n",
      "[flaml.automl.logger: 04-11 02:40:17] {2258} INFO - iteration 61, current learner xgboost\n",
      "[flaml.automl.logger: 04-11 02:40:18] {2442} INFO -  at 23.4s,\testimator xgboost's best error=0.0011,\tbest estimator extra_tree's best error=0.0009\n",
      "[flaml.automl.logger: 04-11 02:40:18] {2258} INFO - iteration 62, current learner xgb_limitdepth\n",
      "[flaml.automl.logger: 04-11 02:40:19] {2442} INFO -  at 23.5s,\testimator xgb_limitdepth's best error=0.0021,\tbest estimator extra_tree's best error=0.0009\n",
      "[flaml.automl.logger: 04-11 02:40:19] {2258} INFO - iteration 63, current learner xgboost\n",
      "[flaml.automl.logger: 04-11 02:40:21] {2442} INFO -  at 26.0s,\testimator xgboost's best error=0.0011,\tbest estimator extra_tree's best error=0.0009\n",
      "[flaml.automl.logger: 04-11 02:40:21] {2258} INFO - iteration 64, current learner xgb_limitdepth\n",
      "[flaml.automl.logger: 04-11 02:40:21] {2442} INFO -  at 26.0s,\testimator xgb_limitdepth's best error=0.0021,\tbest estimator extra_tree's best error=0.0009\n",
      "[flaml.automl.logger: 04-11 02:40:21] {2258} INFO - iteration 65, current learner xgb_limitdepth\n",
      "[flaml.automl.logger: 04-11 02:40:21] {2442} INFO -  at 26.2s,\testimator xgb_limitdepth's best error=0.0020,\tbest estimator extra_tree's best error=0.0009\n",
      "[flaml.automl.logger: 04-11 02:40:21] {2258} INFO - iteration 66, current learner xgboost\n",
      "[flaml.automl.logger: 04-11 02:40:26] {2442} INFO -  at 30.9s,\testimator xgboost's best error=0.0009,\tbest estimator xgboost's best error=0.0009\n",
      "[flaml.automl.logger: 04-11 02:40:26] {2258} INFO - iteration 67, current learner extra_tree\n",
      "[flaml.automl.logger: 04-11 02:40:29] {2442} INFO -  at 33.7s,\testimator extra_tree's best error=0.0004,\tbest estimator extra_tree's best error=0.0004\n",
      "[flaml.automl.logger: 04-11 02:40:29] {2258} INFO - iteration 68, current learner xgb_limitdepth\n",
      "[flaml.automl.logger: 04-11 02:40:29] {2442} INFO -  at 34.0s,\testimator xgb_limitdepth's best error=0.0020,\tbest estimator extra_tree's best error=0.0004\n",
      "[flaml.automl.logger: 04-11 02:40:29] {2258} INFO - iteration 69, current learner extra_tree\n",
      "[flaml.automl.logger: 04-11 02:40:32] {2442} INFO -  at 37.3s,\testimator extra_tree's best error=0.0004,\tbest estimator extra_tree's best error=0.0004\n",
      "[flaml.automl.logger: 04-11 02:40:32] {2258} INFO - iteration 70, current learner rf\n",
      "[flaml.automl.logger: 04-11 02:40:33] {2442} INFO -  at 37.8s,\testimator rf's best error=0.0015,\tbest estimator extra_tree's best error=0.0004\n",
      "[flaml.automl.logger: 04-11 02:40:33] {2258} INFO - iteration 71, current learner extra_tree\n",
      "[flaml.automl.logger: 04-11 02:40:35] {2442} INFO -  at 39.6s,\testimator extra_tree's best error=0.0004,\tbest estimator extra_tree's best error=0.0004\n",
      "[flaml.automl.logger: 04-11 02:40:35] {2258} INFO - iteration 72, current learner extra_tree\n",
      "[flaml.automl.logger: 04-11 02:40:37] {2442} INFO -  at 42.1s,\testimator extra_tree's best error=0.0004,\tbest estimator extra_tree's best error=0.0004\n",
      "[flaml.automl.logger: 04-11 02:40:37] {2258} INFO - iteration 73, current learner extra_tree\n",
      "[flaml.automl.logger: 04-11 02:40:39] {2442} INFO -  at 43.6s,\testimator extra_tree's best error=0.0004,\tbest estimator extra_tree's best error=0.0004\n",
      "[flaml.automl.logger: 04-11 02:40:39] {2258} INFO - iteration 74, current learner sgd\n",
      "[flaml.automl.logger: 04-11 02:40:39] {2442} INFO -  at 43.8s,\testimator sgd's best error=0.0438,\tbest estimator extra_tree's best error=0.0004\n",
      "[flaml.automl.logger: 04-11 02:40:39] {2258} INFO - iteration 75, current learner extra_tree\n",
      "[flaml.automl.logger: 04-11 02:40:40] {2442} INFO -  at 45.3s,\testimator extra_tree's best error=0.0004,\tbest estimator extra_tree's best error=0.0004\n",
      "[flaml.automl.logger: 04-11 02:40:40] {2258} INFO - iteration 76, current learner sgd\n",
      "[flaml.automl.logger: 04-11 02:41:01] {2442} INFO -  at 65.5s,\testimator sgd's best error=0.0438,\tbest estimator extra_tree's best error=0.0004\n",
      "[flaml.automl.logger: 04-11 02:41:03] {2685} INFO - retrain extra_tree for 2.5s\n",
      "[flaml.automl.logger: 04-11 02:41:03] {2688} INFO - retrained model: ExtraTreesRegressor(max_features=0.4539107862274748, max_leaf_nodes=7483,\n",
      "                    n_estimators=101, n_jobs=-1, random_state=12032022)\n",
      "[flaml.automl.logger: 04-11 02:41:03] {1985} INFO - fit succeeded\n",
      "[flaml.automl.logger: 04-11 02:41:03] {1986} INFO - Time taken to find the best model: 33.709821462631226\n",
      "Predictions: [0.78193378 0.88506645 0.76590557 ... 0.786585   0.85282171 0.83566238]\n",
      "\n",
      "Best model: ExtraTreesRegressor(max_features=0.4539107862274748, max_leaf_nodes=7483,\n",
      "                    n_estimators=101, n_jobs=-1, random_state=12032022)\n",
      "\n",
      "Feature importances: [0.00000000e+00 2.07308699e-02 2.11199378e-03 1.23783081e-02\n",
      " 1.68235195e-04 1.08316647e-02 6.11150285e-03 0.00000000e+00\n",
      " 5.31019845e-02 1.18038898e-03 1.00132175e-02 1.85563944e-04\n",
      " 3.06919654e-03 2.04080820e-03 0.00000000e+00 4.29486177e-02\n",
      " 2.48469422e-03 5.20784735e-03 2.20396520e-04 1.38346821e-03\n",
      " 7.91517535e-05 0.00000000e+00 5.04522723e-02 3.49783387e-04\n",
      " 3.46973677e-02 2.01675821e-04 1.01334305e-02 4.37404668e-03\n",
      " 0.00000000e+00 6.24060541e-02 8.50962698e-05 1.29275911e-02\n",
      " 2.61929763e-04 2.60918537e-03 4.56096061e-04 0.00000000e+00\n",
      " 1.12288176e-01 1.03885252e-03 1.90614618e-02 7.19265623e-04\n",
      " 1.46410195e-02 7.91935693e-05 0.00000000e+00 8.43432465e-02\n",
      " 7.67433503e-04 1.14931019e-02 1.83328316e-04 1.21110096e-02\n",
      " 1.47387679e-04 0.00000000e+00 8.43236562e-02 2.50412460e-03\n",
      " 1.90231990e-02 6.01203178e-04 2.05633125e-02 4.81752412e-04\n",
      " 0.00000000e+00 8.75636604e-02 2.47622731e-03 1.24781341e-02\n",
      " 5.71446787e-04 1.20307798e-02 1.46749875e-04 0.00000000e+00\n",
      " 1.05353129e-01 2.67088978e-03 1.56872562e-02 8.31716849e-04\n",
      " 1.90539167e-02 3.56292926e-03]\n"
     ]
    }
   ],
   "source": [
    "from flaml import AutoML\n",
    "import numpy as np\n",
    "\n",
    "# Reshape 3D data to 2D for AutoML\n",
    "# Original shape: (n_samples, timesteps, features)\n",
    "# New shape: (n_samples, timesteps * features)\n",
    "X_train_2dd = X_SOH_train.reshape(X_SOC_train.shape[0], -1)\n",
    "X_test_2dd = X_SOH_testval.reshape(X_SOC_testval.shape[0], -1)\n",
    "\n",
    "# Initialize AutoML\n",
    "automll = AutoML()\n",
    "\n",
    "# Settings\n",
    "automll_settings = {\n",
    "    \"time_budget\": 60,  # 60 seconds - increased from 10 for better results\n",
    "    \"metric\": \"rmse\",\n",
    "    \"task\": \"regression\",\n",
    "    \"log_file_name\": \"battery_capacity.log\",\n",
    "}\n",
    "\n",
    "# Train\n",
    "automll.fit(X_train=X_train_2dd, y_train=y_SOC_train, **automll_settings)\n",
    "\n",
    "# Predict and evaluate\n",
    "y_predd = automll.predict(X_test_2dd)\n",
    "print(\"Predictions:\", y_predd)\n",
    "\n",
    "# Show best model\n",
    "print(\"\\nBest model:\", automll.model.estimator)\n",
    "\n",
    "# Feature importance (if available)\n",
    "if hasattr(automll.model.estimator, \"feature_importances_\"):\n",
    "    print(\"\\nFeature importances:\", automll.model.estimator.feature_importances_)"
   ]
  },
  {
   "cell_type": "code",
   "execution_count": 92,
   "metadata": {},
   "outputs": [
    {
     "name": "stdout",
     "output_type": "stream",
     "text": [
      "\n",
      "Best model: ExtraTreesRegressor(max_features=0.4539107862274748, max_leaf_nodes=7483,\n",
      "                    n_estimators=101, n_jobs=-1, random_state=12032022)\n",
      "\n",
      "Feature importances: [0.00000000e+00 2.07308699e-02 2.11199378e-03 1.23783081e-02\n",
      " 1.68235195e-04 1.08316647e-02 6.11150285e-03 0.00000000e+00\n",
      " 5.31019845e-02 1.18038898e-03 1.00132175e-02 1.85563944e-04\n",
      " 3.06919654e-03 2.04080820e-03 0.00000000e+00 4.29486177e-02\n",
      " 2.48469422e-03 5.20784735e-03 2.20396520e-04 1.38346821e-03\n",
      " 7.91517535e-05 0.00000000e+00 5.04522723e-02 3.49783387e-04\n",
      " 3.46973677e-02 2.01675821e-04 1.01334305e-02 4.37404668e-03\n",
      " 0.00000000e+00 6.24060541e-02 8.50962698e-05 1.29275911e-02\n",
      " 2.61929763e-04 2.60918537e-03 4.56096061e-04 0.00000000e+00\n",
      " 1.12288176e-01 1.03885252e-03 1.90614618e-02 7.19265623e-04\n",
      " 1.46410195e-02 7.91935693e-05 0.00000000e+00 8.43432465e-02\n",
      " 7.67433503e-04 1.14931019e-02 1.83328316e-04 1.21110096e-02\n",
      " 1.47387679e-04 0.00000000e+00 8.43236562e-02 2.50412460e-03\n",
      " 1.90231990e-02 6.01203178e-04 2.05633125e-02 4.81752412e-04\n",
      " 0.00000000e+00 8.75636604e-02 2.47622731e-03 1.24781341e-02\n",
      " 5.71446787e-04 1.20307798e-02 1.46749875e-04 0.00000000e+00\n",
      " 1.05353129e-01 2.67088978e-03 1.56872562e-02 8.31716849e-04\n",
      " 1.90539167e-02 3.56292926e-03]\n"
     ]
    }
   ],
   "source": [
    "print(\"\\nBest model:\", automll.model.estimator)\n",
    "\n",
    "# Feature importance (if available)\n",
    "if hasattr(automll.model.estimator, \"feature_importances_\"):\n",
    "    print(\"\\nFeature importances:\", automll.model.estimator.feature_importances_)"
   ]
  },
  {
   "cell_type": "markdown",
   "metadata": {},
   "source": [
    "#### Sinir ağı tabanlı model"
   ]
  },
  {
   "cell_type": "code",
   "execution_count": 22,
   "metadata": {},
   "outputs": [
    {
     "name": "stdout",
     "output_type": "stream",
     "text": [
      "Epoch 1/20\n"
     ]
    },
    {
     "name": "stderr",
     "output_type": "stream",
     "text": [
      "/home/deniz/miniconda3/lib/python3.12/site-packages/dask/dataframe/__init__.py:49: FutureWarning: \n",
      "Dask dataframe query planning is disabled because dask-expr is not installed.\n",
      "\n",
      "You can install it with `pip install dask[dataframe]` or `conda install dask`.\n",
      "This will raise in a future version.\n",
      "\n",
      "  warnings.warn(msg, FutureWarning)\n",
      "/home/deniz/miniconda3/lib/python3.12/site-packages/keras/src/layers/rnn/rnn.py:204: UserWarning: Do not pass an `input_shape`/`input_dim` argument to a layer. When using Sequential models, prefer using an `Input(shape)` object as the first layer in the model instead.\n",
      "  super().__init__(**kwargs)\n"
     ]
    },
    {
     "name": "stdout",
     "output_type": "stream",
     "text": [
      "\u001b[1m3281/3281\u001b[0m \u001b[32m━━━━━━━━━━━━━━━━━━━━\u001b[0m\u001b[37m\u001b[0m \u001b[1m53s\u001b[0m 16ms/step - loss: 0.0048 - val_loss: 6.6341e-04\n",
      "Epoch 2/20\n",
      "\u001b[1m3281/3281\u001b[0m \u001b[32m━━━━━━━━━━━━━━━━━━━━\u001b[0m\u001b[37m\u001b[0m \u001b[1m48s\u001b[0m 15ms/step - loss: 6.7237e-04 - val_loss: 7.5417e-04\n",
      "Epoch 3/20\n",
      "\u001b[1m3281/3281\u001b[0m \u001b[32m━━━━━━━━━━━━━━━━━━━━\u001b[0m\u001b[37m\u001b[0m \u001b[1m47s\u001b[0m 14ms/step - loss: 6.1239e-04 - val_loss: 6.4671e-04\n",
      "Epoch 4/20\n",
      "\u001b[1m3281/3281\u001b[0m \u001b[32m━━━━━━━━━━━━━━━━━━━━\u001b[0m\u001b[37m\u001b[0m \u001b[1m49s\u001b[0m 15ms/step - loss: 4.9207e-04 - val_loss: 6.8245e-04\n",
      "Epoch 5/20\n",
      "\u001b[1m3281/3281\u001b[0m \u001b[32m━━━━━━━━━━━━━━━━━━━━\u001b[0m\u001b[37m\u001b[0m \u001b[1m46s\u001b[0m 14ms/step - loss: 4.2855e-04 - val_loss: 5.9236e-04\n",
      "Epoch 6/20\n",
      "\u001b[1m3281/3281\u001b[0m \u001b[32m━━━━━━━━━━━━━━━━━━━━\u001b[0m\u001b[37m\u001b[0m \u001b[1m47s\u001b[0m 14ms/step - loss: 4.2971e-04 - val_loss: 6.7535e-04\n",
      "Epoch 7/20\n",
      "\u001b[1m3281/3281\u001b[0m \u001b[32m━━━━━━━━━━━━━━━━━━━━\u001b[0m\u001b[37m\u001b[0m \u001b[1m45s\u001b[0m 14ms/step - loss: 4.3069e-04 - val_loss: 3.8624e-04\n",
      "Epoch 8/20\n",
      "\u001b[1m3281/3281\u001b[0m \u001b[32m━━━━━━━━━━━━━━━━━━━━\u001b[0m\u001b[37m\u001b[0m \u001b[1m46s\u001b[0m 14ms/step - loss: 3.8945e-04 - val_loss: 3.0640e-04\n",
      "Epoch 9/20\n",
      "\u001b[1m3281/3281\u001b[0m \u001b[32m━━━━━━━━━━━━━━━━━━━━\u001b[0m\u001b[37m\u001b[0m \u001b[1m46s\u001b[0m 14ms/step - loss: 6.3684e-04 - val_loss: 0.0012\n",
      "Epoch 10/20\n",
      "\u001b[1m3281/3281\u001b[0m \u001b[32m━━━━━━━━━━━━━━━━━━━━\u001b[0m\u001b[37m\u001b[0m \u001b[1m45s\u001b[0m 14ms/step - loss: 0.0013 - val_loss: 0.0012\n",
      "Epoch 11/20\n",
      "\u001b[1m3281/3281\u001b[0m \u001b[32m━━━━━━━━━━━━━━━━━━━━\u001b[0m\u001b[37m\u001b[0m \u001b[1m45s\u001b[0m 14ms/step - loss: 0.0011 - val_loss: 4.7218e-04\n",
      "Epoch 12/20\n",
      "\u001b[1m3281/3281\u001b[0m \u001b[32m━━━━━━━━━━━━━━━━━━━━\u001b[0m\u001b[37m\u001b[0m \u001b[1m46s\u001b[0m 14ms/step - loss: 5.4147e-04 - val_loss: 4.1972e-04\n",
      "Epoch 13/20\n",
      "\u001b[1m3281/3281\u001b[0m \u001b[32m━━━━━━━━━━━━━━━━━━━━\u001b[0m\u001b[37m\u001b[0m \u001b[1m49s\u001b[0m 15ms/step - loss: 4.9536e-04 - val_loss: 0.0012\n",
      "Epoch 14/20\n",
      "\u001b[1m3281/3281\u001b[0m \u001b[32m━━━━━━━━━━━━━━━━━━━━\u001b[0m\u001b[37m\u001b[0m \u001b[1m49s\u001b[0m 15ms/step - loss: 7.4288e-04 - val_loss: 5.2781e-04\n",
      "Epoch 15/20\n",
      "\u001b[1m3281/3281\u001b[0m \u001b[32m━━━━━━━━━━━━━━━━━━━━\u001b[0m\u001b[37m\u001b[0m \u001b[1m49s\u001b[0m 15ms/step - loss: 5.0183e-04 - val_loss: 1.6250e-04\n",
      "Epoch 16/20\n",
      "\u001b[1m3281/3281\u001b[0m \u001b[32m━━━━━━━━━━━━━━━━━━━━\u001b[0m\u001b[37m\u001b[0m \u001b[1m49s\u001b[0m 15ms/step - loss: 1.8860e-04 - val_loss: 1.2362e-04\n",
      "Epoch 17/20\n",
      "\u001b[1m3281/3281\u001b[0m \u001b[32m━━━━━━━━━━━━━━━━━━━━\u001b[0m\u001b[37m\u001b[0m \u001b[1m48s\u001b[0m 15ms/step - loss: 1.4572e-04 - val_loss: 1.3907e-04\n",
      "Epoch 18/20\n",
      "\u001b[1m3281/3281\u001b[0m \u001b[32m━━━━━━━━━━━━━━━━━━━━\u001b[0m\u001b[37m\u001b[0m \u001b[1m47s\u001b[0m 14ms/step - loss: 1.3944e-04 - val_loss: 7.9024e-05\n",
      "Epoch 19/20\n",
      "\u001b[1m3281/3281\u001b[0m \u001b[32m━━━━━━━━━━━━━━━━━━━━\u001b[0m\u001b[37m\u001b[0m \u001b[1m47s\u001b[0m 14ms/step - loss: 1.1268e-04 - val_loss: 6.9643e-05\n",
      "Epoch 20/20\n",
      "\u001b[1m3281/3281\u001b[0m \u001b[32m━━━━━━━━━━━━━━━━━━━━\u001b[0m\u001b[37m\u001b[0m \u001b[1m47s\u001b[0m 14ms/step - loss: 1.0661e-04 - val_loss: 2.2026e-04\n"
     ]
    },
    {
     "name": "stderr",
     "output_type": "stream",
     "text": [
      "WARNING:absl:You are saving your model as an HDF5 file via `model.save()` or `keras.saving.save_model(model)`. This file format is considered legacy. We recommend using instead the native Keras format, e.g. `model.save('my_model.keras')` or `keras.saving.save_model(model, 'my_model.keras')`. \n"
     ]
    }
   ],
   "source": [
    "from flaml import AutoML\n",
    "import numpy as np\n",
    "\n",
    "# architecture of the model\n",
    "time_steps = X_SOC_train.shape[1]\n",
    "features = X_SOC_train.shape[2]\n",
    "\n",
    "model = Sequential()\n",
    "\n",
    "model.add(LSTM(100, return_sequences=True, input_shape=(time_steps, features)))\n",
    "model.add(LSTM(100, return_sequences=True))\n",
    "model.add(LSTM(100, return_sequences=False))\n",
    "model.add(Dense(50, activation=\"relu\"))\n",
    "model.add(Dense(1, activation=\"linear\"))\n",
    "\n",
    "model.compile(optimizer=\"adam\", loss=\"mean_squared_error\")\n",
    "\n",
    "\n",
    "# training the model\n",
    "history = model.fit(\n",
    "    X_SOC_train,\n",
    "    y_SOC_train,\n",
    "    epochs=20,\n",
    "    validation_data=(X_SOC_validation, y_SOC_validation),\n",
    "    verbose=1,\n",
    ")\n",
    "model.save(\"SOC_LSTM.h5\")"
   ]
  },
  {
   "cell_type": "code",
   "execution_count": 23,
   "metadata": {},
   "outputs": [
    {
     "name": "stderr",
     "output_type": "stream",
     "text": [
      "WARNING:absl:Compiled the loaded model, but the compiled metrics have yet to be built. `model.compile_metrics` will be empty until you train or evaluate the model.\n"
     ]
    },
    {
     "data": {
      "text/html": [
       "<pre style=\"white-space:pre;overflow-x:auto;line-height:normal;font-family:Menlo,'DejaVu Sans Mono',consolas,'Courier New',monospace\"><span style=\"font-weight: bold\">Model: \"sequential\"</span>\n",
       "</pre>\n"
      ],
      "text/plain": [
       "\u001b[1mModel: \"sequential\"\u001b[0m\n"
      ]
     },
     "metadata": {},
     "output_type": "display_data"
    },
    {
     "data": {
      "text/html": [
       "<pre style=\"white-space:pre;overflow-x:auto;line-height:normal;font-family:Menlo,'DejaVu Sans Mono',consolas,'Courier New',monospace\">┏━━━━━━━━━━━━━━━━━━━━━━━━━━━━━━━━━┳━━━━━━━━━━━━━━━━━━━━━━━━┳━━━━━━━━━━━━━━━┓\n",
       "┃<span style=\"font-weight: bold\"> Layer (type)                    </span>┃<span style=\"font-weight: bold\"> Output Shape           </span>┃<span style=\"font-weight: bold\">       Param # </span>┃\n",
       "┡━━━━━━━━━━━━━━━━━━━━━━━━━━━━━━━━━╇━━━━━━━━━━━━━━━━━━━━━━━━╇━━━━━━━━━━━━━━━┩\n",
       "│ lstm (<span style=\"color: #0087ff; text-decoration-color: #0087ff\">LSTM</span>)                     │ (<span style=\"color: #00d7ff; text-decoration-color: #00d7ff\">None</span>, <span style=\"color: #00af00; text-decoration-color: #00af00\">10</span>, <span style=\"color: #00af00; text-decoration-color: #00af00\">100</span>)        │        <span style=\"color: #00af00; text-decoration-color: #00af00\">43,200</span> │\n",
       "├─────────────────────────────────┼────────────────────────┼───────────────┤\n",
       "│ lstm_1 (<span style=\"color: #0087ff; text-decoration-color: #0087ff\">LSTM</span>)                   │ (<span style=\"color: #00d7ff; text-decoration-color: #00d7ff\">None</span>, <span style=\"color: #00af00; text-decoration-color: #00af00\">10</span>, <span style=\"color: #00af00; text-decoration-color: #00af00\">100</span>)        │        <span style=\"color: #00af00; text-decoration-color: #00af00\">80,400</span> │\n",
       "├─────────────────────────────────┼────────────────────────┼───────────────┤\n",
       "│ lstm_2 (<span style=\"color: #0087ff; text-decoration-color: #0087ff\">LSTM</span>)                   │ (<span style=\"color: #00d7ff; text-decoration-color: #00d7ff\">None</span>, <span style=\"color: #00af00; text-decoration-color: #00af00\">100</span>)            │        <span style=\"color: #00af00; text-decoration-color: #00af00\">80,400</span> │\n",
       "├─────────────────────────────────┼────────────────────────┼───────────────┤\n",
       "│ dense (<span style=\"color: #0087ff; text-decoration-color: #0087ff\">Dense</span>)                   │ (<span style=\"color: #00d7ff; text-decoration-color: #00d7ff\">None</span>, <span style=\"color: #00af00; text-decoration-color: #00af00\">50</span>)             │         <span style=\"color: #00af00; text-decoration-color: #00af00\">5,050</span> │\n",
       "├─────────────────────────────────┼────────────────────────┼───────────────┤\n",
       "│ dense_1 (<span style=\"color: #0087ff; text-decoration-color: #0087ff\">Dense</span>)                 │ (<span style=\"color: #00d7ff; text-decoration-color: #00d7ff\">None</span>, <span style=\"color: #00af00; text-decoration-color: #00af00\">1</span>)              │            <span style=\"color: #00af00; text-decoration-color: #00af00\">51</span> │\n",
       "└─────────────────────────────────┴────────────────────────┴───────────────┘\n",
       "</pre>\n"
      ],
      "text/plain": [
       "┏━━━━━━━━━━━━━━━━━━━━━━━━━━━━━━━━━┳━━━━━━━━━━━━━━━━━━━━━━━━┳━━━━━━━━━━━━━━━┓\n",
       "┃\u001b[1m \u001b[0m\u001b[1mLayer (type)                   \u001b[0m\u001b[1m \u001b[0m┃\u001b[1m \u001b[0m\u001b[1mOutput Shape          \u001b[0m\u001b[1m \u001b[0m┃\u001b[1m \u001b[0m\u001b[1m      Param #\u001b[0m\u001b[1m \u001b[0m┃\n",
       "┡━━━━━━━━━━━━━━━━━━━━━━━━━━━━━━━━━╇━━━━━━━━━━━━━━━━━━━━━━━━╇━━━━━━━━━━━━━━━┩\n",
       "│ lstm (\u001b[38;5;33mLSTM\u001b[0m)                     │ (\u001b[38;5;45mNone\u001b[0m, \u001b[38;5;34m10\u001b[0m, \u001b[38;5;34m100\u001b[0m)        │        \u001b[38;5;34m43,200\u001b[0m │\n",
       "├─────────────────────────────────┼────────────────────────┼───────────────┤\n",
       "│ lstm_1 (\u001b[38;5;33mLSTM\u001b[0m)                   │ (\u001b[38;5;45mNone\u001b[0m, \u001b[38;5;34m10\u001b[0m, \u001b[38;5;34m100\u001b[0m)        │        \u001b[38;5;34m80,400\u001b[0m │\n",
       "├─────────────────────────────────┼────────────────────────┼───────────────┤\n",
       "│ lstm_2 (\u001b[38;5;33mLSTM\u001b[0m)                   │ (\u001b[38;5;45mNone\u001b[0m, \u001b[38;5;34m100\u001b[0m)            │        \u001b[38;5;34m80,400\u001b[0m │\n",
       "├─────────────────────────────────┼────────────────────────┼───────────────┤\n",
       "│ dense (\u001b[38;5;33mDense\u001b[0m)                   │ (\u001b[38;5;45mNone\u001b[0m, \u001b[38;5;34m50\u001b[0m)             │         \u001b[38;5;34m5,050\u001b[0m │\n",
       "├─────────────────────────────────┼────────────────────────┼───────────────┤\n",
       "│ dense_1 (\u001b[38;5;33mDense\u001b[0m)                 │ (\u001b[38;5;45mNone\u001b[0m, \u001b[38;5;34m1\u001b[0m)              │            \u001b[38;5;34m51\u001b[0m │\n",
       "└─────────────────────────────────┴────────────────────────┴───────────────┘\n"
      ]
     },
     "metadata": {},
     "output_type": "display_data"
    },
    {
     "data": {
      "text/html": [
       "<pre style=\"white-space:pre;overflow-x:auto;line-height:normal;font-family:Menlo,'DejaVu Sans Mono',consolas,'Courier New',monospace\"><span style=\"font-weight: bold\"> Total params: </span><span style=\"color: #00af00; text-decoration-color: #00af00\">209,103</span> (816.81 KB)\n",
       "</pre>\n"
      ],
      "text/plain": [
       "\u001b[1m Total params: \u001b[0m\u001b[38;5;34m209,103\u001b[0m (816.81 KB)\n"
      ]
     },
     "metadata": {},
     "output_type": "display_data"
    },
    {
     "data": {
      "text/html": [
       "<pre style=\"white-space:pre;overflow-x:auto;line-height:normal;font-family:Menlo,'DejaVu Sans Mono',consolas,'Courier New',monospace\"><span style=\"font-weight: bold\"> Trainable params: </span><span style=\"color: #00af00; text-decoration-color: #00af00\">209,101</span> (816.80 KB)\n",
       "</pre>\n"
      ],
      "text/plain": [
       "\u001b[1m Trainable params: \u001b[0m\u001b[38;5;34m209,101\u001b[0m (816.80 KB)\n"
      ]
     },
     "metadata": {},
     "output_type": "display_data"
    },
    {
     "data": {
      "text/html": [
       "<pre style=\"white-space:pre;overflow-x:auto;line-height:normal;font-family:Menlo,'DejaVu Sans Mono',consolas,'Courier New',monospace\"><span style=\"font-weight: bold\"> Non-trainable params: </span><span style=\"color: #00af00; text-decoration-color: #00af00\">0</span> (0.00 B)\n",
       "</pre>\n"
      ],
      "text/plain": [
       "\u001b[1m Non-trainable params: \u001b[0m\u001b[38;5;34m0\u001b[0m (0.00 B)\n"
      ]
     },
     "metadata": {},
     "output_type": "display_data"
    },
    {
     "data": {
      "text/html": [
       "<pre style=\"white-space:pre;overflow-x:auto;line-height:normal;font-family:Menlo,'DejaVu Sans Mono',consolas,'Courier New',monospace\"><span style=\"font-weight: bold\"> Optimizer params: </span><span style=\"color: #00af00; text-decoration-color: #00af00\">2</span> (12.00 B)\n",
       "</pre>\n"
      ],
      "text/plain": [
       "\u001b[1m Optimizer params: \u001b[0m\u001b[38;5;34m2\u001b[0m (12.00 B)\n"
      ]
     },
     "metadata": {},
     "output_type": "display_data"
    }
   ],
   "source": [
    "# loading the model\n",
    "SOC_model = load_model(\"SOH_LSTM.h5\")\n",
    "SOC_model.summary()"
   ]
  },
  {
   "cell_type": "code",
   "execution_count": 24,
   "metadata": {},
   "outputs": [
    {
     "name": "stdout",
     "output_type": "stream",
     "text": [
      "\u001b[1m411/411\u001b[0m \u001b[32m━━━━━━━━━━━━━━━━━━━━\u001b[0m\u001b[37m\u001b[0m \u001b[1m4s\u001b[0m 10ms/step\n",
      "Mean Squared Error: 0.010446482987891692\n",
      "Mean Absolute Error: 0.08308094369501505\n",
      "Root Mean Squared Error: 0.1022080377851551\n"
     ]
    },
    {
     "data": {
      "image/png": "[encoded data removed]",
      "text/plain": [
       "<Figure size 1000x500 with 1 Axes>"
      ]
     },
     "metadata": {},
     "output_type": "display_data"
    }
   ],
   "source": [
    "\n",
    "# testing the accuracy of model on thw test dataset\n",
    "%matplotlib inline\n",
    "predicted_y = SOC_model.predict(X_SOH_test)\n",
    "true_y = y_SOC_test\n",
    "\n",
    "mse = mean_squared_error(true_y, predicted_y)\n",
    "mae = mean_absolute_error(true_y, predicted_y)\n",
    "rmse = np.sqrt(mse)\n",
    "\n",
    "print(\"Mean Squared Error:\", mse)\n",
    "print(\"Mean Absolute Error:\", mae)\n",
    "print(\"Root Mean Squared Error:\", rmse)\n",
    "\n",
    "plt.figure(figsize=(10, 5))\n",
    "\n",
    "plt.plot(true_y, label=\"True Values\")\n",
    "\n",
    "plt.plot(predicted_y, label=\"Predicted Values\")\n",
    "\n",
    "plt.title(\"Comparison of True and Predicted Values Testing set\")\n",
    "plt.xlabel(\"Index\")\n",
    "plt.ylabel(\"SOC\")\n",
    "plt.legend()\n",
    "plt.show()\n"
   ]
  },
  {
   "cell_type": "code",
   "execution_count": 25,
   "metadata": {},
   "outputs": [
    {
     "name": "stdout",
     "output_type": "stream",
     "text": [
      "\u001b[1m3281/3281\u001b[0m \u001b[32m━━━━━━━━━━━━━━━━━━━━\u001b[0m\u001b[37m\u001b[0m \u001b[1m31s\u001b[0m 10ms/step\n",
      "Mean Squared Error: 0.010350027048732963\n",
      "Mean Absolute Error: 0.08298178045865533\n",
      "Root Mean Squared Error: 0.10173508268406216\n"
     ]
    },
    {
     "data": {
      "image/png": "[encoded data removed]",
      "text/plain": [
       "<Figure size 1000x500 with 1 Axes>"
      ]
     },
     "metadata": {},
     "output_type": "display_data"
    }
   ],
   "source": [
    "# testing the accuracy of model on train dataset\n",
    "predicted_y = SOC_model.predict(X_SOH_train)\n",
    "true_y = y_SOC_train\n",
    "\n",
    "mse = mean_squared_error(true_y, predicted_y)\n",
    "mae = mean_absolute_error(true_y, predicted_y)\n",
    "rmse = np.sqrt(mse)\n",
    "\n",
    "print(\"Mean Squared Error:\", mse)\n",
    "print(\"Mean Absolute Error:\", mae)\n",
    "print(\"Root Mean Squared Error:\", rmse)\n",
    "\n",
    "\n",
    "%matplotlib inline\n",
    "plt.figure(figsize=(10, 5))\n",
    "\n",
    "plt.plot(true_y, label=\"True Values\")\n",
    "\n",
    "plt.plot(predicted_y, label=\"Predicted Values\")\n",
    "\n",
    "plt.title(\"Comparison of True and Predicted Values Training set\")\n",
    "plt.xlabel(\"Index\")\n",
    "plt.ylabel(\"SOC\")\n",
    "plt.legend()\n",
    "plt.show()\n"
   ]
  },
  {
   "cell_type": "code",
   "execution_count": 28,
   "metadata": {},
   "outputs": [
    {
     "name": "stderr",
     "output_type": "stream",
     "text": [
      "/home/deniz/miniconda3/lib/python3.12/site-packages/keras/src/saving/saving_lib.py:713: UserWarning: Skipping variable loading for optimizer 'adam', because it has 28 variables whereas the saved optimizer has 2 variables. \n",
      "  saveable.load_own_variables(weights_store.get(inner_path))\n",
      "/home/deniz/miniconda3/lib/python3.12/site-packages/keras/src/saving/saving_lib.py:713: UserWarning: Skipping variable loading for optimizer 'adam', because it has 28 variables whereas the saved optimizer has 2 variables. \n",
      "  saveable.load_own_variables(weights_store.get(inner_path))\n",
      "/home/deniz/miniconda3/lib/python3.12/site-packages/keras/src/saving/saving_lib.py:713: UserWarning: Skipping variable loading for optimizer 'adam', because it has 28 variables whereas the saved optimizer has 2 variables. \n",
      "  saveable.load_own_variables(weights_store.get(inner_path))\n",
      "/home/deniz/miniconda3/lib/python3.12/site-packages/keras/src/saving/saving_lib.py:713: UserWarning: Skipping variable loading for optimizer 'adam', because it has 28 variables whereas the saved optimizer has 2 variables. \n",
      "  saveable.load_own_variables(weights_store.get(inner_path))\n"
     ]
    },
    {
     "name": "stdout",
     "output_type": "stream",
     "text": [
      "MSE skorları: [0.00082263 0.00057705 0.00128672 0.00042463]\n",
      "Ortalama MSE: 0.0007777585551676702\n"
     ]
    }
   ],
   "source": [
    "from scikeras.wrappers import KerasRegressor\n",
    "from sklearn.model_selection import cross_val_score\n",
    "\n",
    "\n",
    "# Scikit-learn uyumlu hale getir\n",
    "regressor = KerasRegressor(model=SOC_model, epochs=20, verbose=0)\n",
    "\n",
    "# Cross-validation uygula\n",
    "scores = cross_val_score(\n",
    "    regressor, X_SOC_test, y_SOC_test, cv=4, scoring=\"neg_mean_squared_error\"\n",
    ")\n",
    "\n",
    "\n",
    "print(\"MSE skorları:\", -scores)\n",
    "print(\"Ortalama MSE:\", -scores.mean())"
   ]
  }
 ],
 "metadata": {
  "kernelspec": {
   "display_name": "base",
   "language": "python",
   "name": "python3"
  },
  "language_info": {
   "codemirror_mode": {
    "name": "ipython",
    "version": 3
   },
   "file_extension": ".py",
   "mimetype": "text/x-python",
   "name": "python",
   "nbconvert_exporter": "python",
   "pygments_lexer": "ipython3",
   "version": "3.12.4"
  }
 },
 "nbformat": 4,
 "nbformat_minor": 4
}
